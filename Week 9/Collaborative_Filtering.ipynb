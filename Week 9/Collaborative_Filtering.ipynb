{
  "nbformat": 4,
  "nbformat_minor": 0,
  "metadata": {
    "colab": {
      "provenance": []
    },
    "kernelspec": {
      "name": "python3",
      "display_name": "Python 3"
    },
    "language_info": {
      "name": "python"
    }
  },
  "cells": [
    {
      "cell_type": "code",
      "source": [
        "!pip install pyspark"
      ],
      "metadata": {
        "colab": {
          "base_uri": "https://localhost:8080/"
        },
        "id": "oS8yUBxUJV-_",
        "outputId": "b0748d07-6cc5-4fd7-b889-e22f7e3c9110"
      },
      "execution_count": 1,
      "outputs": [
        {
          "output_type": "stream",
          "name": "stdout",
          "text": [
            "Looking in indexes: https://pypi.org/simple, https://us-python.pkg.dev/colab-wheels/public/simple/\n",
            "Requirement already satisfied: pyspark in /usr/local/lib/python3.9/dist-packages (3.3.2)\n",
            "Requirement already satisfied: py4j==0.10.9.5 in /usr/local/lib/python3.9/dist-packages (from pyspark) (0.10.9.5)\n"
          ]
        }
      ]
    },
    {
      "cell_type": "code",
      "execution_count": 2,
      "metadata": {
        "id": "p-5Czkn4I3gb"
      },
      "outputs": [],
      "source": [
        "from pyspark.ml.evaluation import RegressionEvaluator\n",
        "from pyspark.ml.recommendation import ALS\n",
        "from pyspark.sql import Row\n",
        "from pyspark.context import SparkContext\n",
        "# Import Apache Spark SQL\n",
        "from pyspark.sql import SparkSession\n",
        "\n",
        "# Create Spark Session/Context\n",
        "# We are using local machine with all the CPU cores [*]\n",
        "spark = SparkSession.builder \\\n",
        "    .master(\"local[*]\") \\\n",
        "    .appName(\"Hello Pyspark\") \\\n",
        "    .config(\"spark.some.config.option\", \"some-value\") \\\n",
        "    .getOrCreate()\n",
        "lines = spark.read.text(\"sample_movielens_ratings.txt\").rdd\n",
        "parts = lines.map(lambda row: row.value.split(\"::\"))\n",
        "ratingsRDD = parts.map(lambda p: Row(userId=int(p[0]), movieId=int(p[1]),\n",
        "                                     rating=float(p[2]), timestamp=int(p[3])))\n",
        "ratings = spark.createDataFrame(ratingsRDD)\n",
        "(training, test) = ratings.randomSplit([0.8, 0.2])"
      ]
    },
    {
      "cell_type": "code",
      "source": [
        "# Build the recommendation model using ALS on the training data\n",
        "# Note we set cold start strategy to 'drop' to ensure we don't get NaN evaluation metrics\n",
        "als = ALS(maxIter=20, regParam=1, userCol=\"userId\", itemCol=\"movieId\", ratingCol=\"rating\",\n",
        "          coldStartStrategy=\"drop\")\n",
        "model = als.fit(training)"
      ],
      "metadata": {
        "id": "FLwUQA4fK4-Z"
      },
      "execution_count": 3,
      "outputs": []
    },
    {
      "cell_type": "code",
      "source": [
        "# Evaluate the model by computing the RMSE on the test data\n",
        "predictions = model.transform(test)\n",
        "evaluator = RegressionEvaluator(metricName=\"rmse\", labelCol=\"rating\",\n",
        "                                predictionCol=\"prediction\")\n",
        "rmse = evaluator.evaluate(predictions)\n",
        "print(\"Root-mean-square error = \" + str(rmse))"
      ],
      "metadata": {
        "colab": {
          "base_uri": "https://localhost:8080/"
        },
        "id": "KuSWAd0RK8AX",
        "outputId": "9d133f45-fae7-4333-be92-1d3f25ff6bdc"
      },
      "execution_count": 4,
      "outputs": [
        {
          "output_type": "stream",
          "name": "stdout",
          "text": [
            "Root-mean-square error = 1.5277466600446912\n"
          ]
        }
      ]
    },
    {
      "cell_type": "code",
      "source": [
        "# Build the recommendation model using ALS on the training data\n",
        "# Note we set cold start strategy to 'drop' to ensure we don't get NaN evaluation metrics\n",
        "als2 = ALS(maxIter=20, regParam=0.1, userCol=\"userId\", itemCol=\"movieId\", ratingCol=\"rating\",\n",
        "          coldStartStrategy=\"drop\")\n",
        "model2 = als2.fit(training)\n",
        "# Evaluate the model by computing the RMSE on the test data\n",
        "predictions2 = model2.transform(test)\n",
        "evaluator2 = RegressionEvaluator(metricName=\"rmse\", labelCol=\"rating\",\n",
        "                                predictionCol=\"prediction\")\n",
        "rmse = evaluator2.evaluate(predictions2)\n",
        "print(\"Root-mean-square error = \" + str(rmse))"
      ],
      "metadata": {
        "colab": {
          "base_uri": "https://localhost:8080/"
        },
        "id": "z3HlgXxrbSXS",
        "outputId": "767f6928-5da1-4525-ba9d-d026234b31b1"
      },
      "execution_count": 5,
      "outputs": [
        {
          "output_type": "stream",
          "name": "stdout",
          "text": [
            "Root-mean-square error = 1.0638611684649135\n"
          ]
        }
      ]
    },
    {
      "cell_type": "code",
      "source": [
        "# Build the recommendation model using ALS on the training data\n",
        "# Note we set cold start strategy to 'drop' to ensure we don't get NaN evaluation metrics\n",
        "als3 = ALS(maxIter=10, regParam=0.5, userCol=\"userId\", itemCol=\"movieId\", ratingCol=\"rating\",\n",
        "          coldStartStrategy=\"drop\")\n",
        "model3 = als3.fit(training)\n",
        "# Evaluate the model by computing the RMSE on the test data\n",
        "predictions3 = model3.transform(test)\n",
        "evaluator3 = RegressionEvaluator(metricName=\"rmse\", labelCol=\"rating\",\n",
        "                                predictionCol=\"prediction\")\n",
        "rmse = evaluator3.evaluate(predictions3)\n",
        "print(\"Root-mean-square error = \" + str(rmse))"
      ],
      "metadata": {
        "colab": {
          "base_uri": "https://localhost:8080/"
        },
        "id": "GB7SAUgyblqQ",
        "outputId": "d361482e-c431-4a86-e22d-9c6268ab1de6"
      },
      "execution_count": 6,
      "outputs": [
        {
          "output_type": "stream",
          "name": "stdout",
          "text": [
            "Root-mean-square error = 1.2575275346967845\n"
          ]
        }
      ]
    },
    {
      "cell_type": "code",
      "source": [
        "# Build the recommendation model using ALS on the training data\n",
        "# Note we set cold start strategy to 'drop' to ensure we don't get NaN evaluation metrics\n",
        "als4 = ALS(maxIter=5, regParam=1.0, userCol=\"userId\", itemCol=\"movieId\", ratingCol=\"rating\",\n",
        "          coldStartStrategy=\"drop\")\n",
        "model4 = als4.fit(training)\n",
        "# Evaluate the model by computing the RMSE on the test data\n",
        "predictions4 = model4.transform(test)\n",
        "evaluator4 = RegressionEvaluator(metricName=\"rmse\", labelCol=\"rating\",\n",
        "                                predictionCol=\"prediction\")\n",
        "rmse = evaluator4.evaluate(predictions4)\n",
        "print(\"Root-mean-square error = \" + str(rmse))"
      ],
      "metadata": {
        "colab": {
          "base_uri": "https://localhost:8080/"
        },
        "id": "uYUCSCMdb0BQ",
        "outputId": "5e287535-88f1-4433-95be-c6a2e52318a6"
      },
      "execution_count": 7,
      "outputs": [
        {
          "output_type": "stream",
          "name": "stdout",
          "text": [
            "Root-mean-square error = 1.5277441005627375\n"
          ]
        }
      ]
    },
    {
      "cell_type": "code",
      "source": [
        "# Build the recommendation model using ALS on the training data\n",
        "# Note we set cold start strategy to 'drop' to ensure we don't get NaN evaluation metrics\n",
        "als2 = ALS(maxIter=20, regParam=0.5, userCol=\"userId\", itemCol=\"movieId\", ratingCol=\"rating\",\n",
        "          coldStartStrategy=\"drop\")\n",
        "model2 = als2.fit(training)\n",
        "# Evaluate the model by computing the RMSE on the test data\n",
        "predictions2 = model2.transform(test)\n",
        "evaluator2 = RegressionEvaluator(metricName=\"rmse\", labelCol=\"rating\",\n",
        "                                predictionCol=\"prediction\")\n",
        "rmse = evaluator2.evaluate(predictions2)\n",
        "print(\"Root-mean-square error = \" + str(rmse))"
      ],
      "metadata": {
        "colab": {
          "base_uri": "https://localhost:8080/"
        },
        "id": "Bo7N6z8Ce7Ik",
        "outputId": "773bf096-fb5f-4bd7-f536-a8203d2795e3"
      },
      "execution_count": 12,
      "outputs": [
        {
          "output_type": "stream",
          "name": "stdout",
          "text": [
            "Root-mean-square error = 1.257690528002235\n"
          ]
        }
      ]
    },
    {
      "cell_type": "code",
      "source": [
        "# Generate top 10 movie recommendations for each user\n",
        "userRecs = model.recommendForAllUsers(10)\n",
        "userRecs.head()"
      ],
      "metadata": {
        "colab": {
          "base_uri": "https://localhost:8080/"
        },
        "id": "sfMtuMKZLAG4",
        "outputId": "a1dd1431-a6f1-4254-caa1-870bad92994e"
      },
      "execution_count": 8,
      "outputs": [
        {
          "output_type": "execute_result",
          "data": {
            "text/plain": [
              "Row(userId=20, recommendations=[Row(movieId=32, rating=1.4831053018569946), Row(movieId=49, rating=1.3540387153625488), Row(movieId=94, rating=1.3452517986297607), Row(movieId=30, rating=1.2596983909606934), Row(movieId=90, rating=1.2493435144424438), Row(movieId=18, rating=1.2146931886672974), Row(movieId=52, rating=1.2136410474777222), Row(movieId=68, rating=1.1748870611190796), Row(movieId=27, rating=1.162322759628296), Row(movieId=62, rating=1.1508246660232544)])"
            ]
          },
          "metadata": {},
          "execution_count": 8
        }
      ]
    },
    {
      "cell_type": "code",
      "source": [
        "# Generate top 10 user recommendations for each movie\n",
        "movieRecs = model.recommendForAllItems(10)\n",
        "movieRecs.head()"
      ],
      "metadata": {
        "colab": {
          "base_uri": "https://localhost:8080/"
        },
        "id": "QKUZBxWDLB6g",
        "outputId": "ce2fe8ed-619c-472e-fc81-e4ddbc44353f"
      },
      "execution_count": 9,
      "outputs": [
        {
          "output_type": "execute_result",
          "data": {
            "text/plain": [
              "Row(movieId=20, recommendations=[Row(userId=26, rating=0.5942370295524597), Row(userId=23, rating=0.583170473575592), Row(userId=11, rating=0.5588732361793518), Row(userId=22, rating=0.5500363707542419), Row(userId=24, rating=0.5025194883346558), Row(userId=8, rating=0.49650076031684875), Row(userId=12, rating=0.4912295937538147), Row(userId=3, rating=0.4894353449344635), Row(userId=2, rating=0.4868123531341553), Row(userId=20, rating=0.47705399990081787)])"
            ]
          },
          "metadata": {},
          "execution_count": 9
        }
      ]
    },
    {
      "cell_type": "code",
      "source": [
        "# Generate top 10 movie recommendations for a specified set of users\n",
        "users = ratings.select(als.getUserCol()).distinct().limit(3)\n",
        "userSubsetRecs = model.recommendForUserSubset(users, 10)\n",
        "userSubsetRecs.head()"
      ],
      "metadata": {
        "colab": {
          "base_uri": "https://localhost:8080/"
        },
        "id": "wzXzVpS4LESf",
        "outputId": "754b626f-43dd-4f1b-ae7c-7eedc80ee614"
      },
      "execution_count": 10,
      "outputs": [
        {
          "output_type": "execute_result",
          "data": {
            "text/plain": [
              "Row(userId=26, recommendations=[Row(movieId=32, rating=1.8474136590957642), Row(movieId=49, rating=1.6866432428359985), Row(movieId=94, rating=1.6756980419158936), Row(movieId=30, rating=1.5691293478012085), Row(movieId=90, rating=1.556230902671814), Row(movieId=18, rating=1.5130691528320312), Row(movieId=52, rating=1.5117586851119995), Row(movieId=68, rating=1.4634851217269897), Row(movieId=27, rating=1.4478346109390259), Row(movieId=62, rating=1.4335118532180786)])"
            ]
          },
          "metadata": {},
          "execution_count": 10
        }
      ]
    },
    {
      "cell_type": "code",
      "source": [
        "# Generate top 10 user recommendations for a specified set of movies\n",
        "movies = ratings.select(als.getItemCol()).distinct().limit(3)\n",
        "movieSubSetRecs = model.recommendForItemSubset(movies, 10)\n",
        "movieSubSetRecs.head()"
      ],
      "metadata": {
        "colab": {
          "base_uri": "https://localhost:8080/"
        },
        "id": "ZUgQB1uoLFj4",
        "outputId": "eb1a352e-bca7-478e-8741-0a9154c49ddc"
      },
      "execution_count": 11,
      "outputs": [
        {
          "output_type": "execute_result",
          "data": {
            "text/plain": [
              "Row(movieId=65, recommendations=[Row(userId=26, rating=1.0939332246780396), Row(userId=23, rating=1.0735608339309692), Row(userId=11, rating=1.028831958770752), Row(userId=22, rating=1.0125640630722046), Row(userId=24, rating=0.9250901341438293), Row(userId=8, rating=0.9140101671218872), Row(userId=12, rating=0.9043064117431641), Row(userId=3, rating=0.9010034799575806), Row(userId=2, rating=0.8961748480796814), Row(userId=20, rating=0.8782106041908264)])"
            ]
          },
          "metadata": {},
          "execution_count": 11
        }
      ]
    },
    {
      "cell_type": "markdown",
      "source": [
        "# Best parameters\n",
        "According to the RMSE the best parameters is 20 for max Iter and 0.1 for reg param with the rmse of 1.06\n"
      ],
      "metadata": {
        "id": "1WvbcACLfC5B"
      }
    },
    {
      "cell_type": "code",
      "source": [
        "# Build the recommendation model using ALS on the training data\n",
        "# Note we set cold start strategy to 'drop' to ensure we don't get NaN evaluation metrics\n",
        "als2 = ALS(maxIter=20, regParam=0.1, userCol=\"userId\", itemCol=\"movieId\", ratingCol=\"rating\",\n",
        "          coldStartStrategy=\"drop\")\n",
        "model2 = als2.fit(training)\n",
        "# Evaluate the model by computing the RMSE on the test data\n",
        "predictions2 = model2.transform(test)\n",
        "evaluator2 = RegressionEvaluator(metricName=\"rmse\", labelCol=\"rating\",\n",
        "                                predictionCol=\"prediction\")\n",
        "rmse = evaluator2.evaluate(predictions2)\n",
        "print(\"Root-mean-square error = \" + str(rmse))"
      ],
      "metadata": {
        "colab": {
          "base_uri": "https://localhost:8080/"
        },
        "id": "9hrkdjDufYM8",
        "outputId": "e68918f5-fa2b-4c42-99d2-9496c58d2777"
      },
      "execution_count": 13,
      "outputs": [
        {
          "output_type": "stream",
          "name": "stdout",
          "text": [
            "Root-mean-square error = 1.0638611684649135\n"
          ]
        }
      ]
    }
  ]
}