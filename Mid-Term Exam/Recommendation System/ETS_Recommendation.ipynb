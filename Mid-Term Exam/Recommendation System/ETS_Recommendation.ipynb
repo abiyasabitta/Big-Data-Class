{
  "nbformat": 4,
  "nbformat_minor": 0,
  "metadata": {
    "colab": {
      "provenance": []
    },
    "kernelspec": {
      "name": "python3",
      "display_name": "Python 3"
    },
    "language_info": {
      "name": "python"
    }
  },
  "cells": [
    {
      "cell_type": "markdown",
      "source": [
        "# ABIYA SABITTA RAGADANI || 05111940000166\n",
        "MID-TERM EXAM"
      ],
      "metadata": {
        "id": "6cB2sl75X5pa"
      }
    },
    {
      "cell_type": "markdown",
      "source": [
        "# Recommendation System using FP-Growth"
      ],
      "metadata": {
        "id": "lSCHi37xnuNX"
      }
    },
    {
      "cell_type": "code",
      "execution_count": 1,
      "metadata": {
        "colab": {
          "base_uri": "https://localhost:8080/"
        },
        "id": "vi_0X02FX3V6",
        "outputId": "2d5713d2-7be5-45c5-c2ea-d7b24cab56e4"
      },
      "outputs": [
        {
          "metadata": {
            "tags": null
          },
          "name": "stdout",
          "output_type": "stream",
          "text": [
            "Looking in indexes: https://pypi.org/simple, https://us-python.pkg.dev/colab-wheels/public/simple/\n",
            "Requirement already satisfied: pyspark in /usr/local/lib/python3.9/dist-packages (3.4.0)\n",
            "Requirement already satisfied: py4j==0.10.9.7 in /usr/local/lib/python3.9/dist-packages (from pyspark) (0.10.9.7)\n"
          ]
        }
      ],
      "source": [
        "!pip install pyspark"
      ]
    },
    {
      "cell_type": "code",
      "source": [
        "# Import Apache Spark SQL\n",
        "#from pyspark.sql import SparkSession\n",
        "\n",
        "# Create Spark Session/Context\n",
        "# We are using local machine with all the CPU cores [*]\n",
        "#spark = SparkSession.builder \\\n",
        "    #.master(\"local[*]\") \\\n",
        "    #.appName(\"Hello Pyspark\") \\\n",
        "   # .config(\"spark.some.config.option\", \"some-value\") \\\n",
        "   # .getOrCreate()"
      ],
      "metadata": {
        "id": "twkkLoJnYWmL"
      },
      "execution_count": null,
      "outputs": []
    },
    {
      "cell_type": "markdown",
      "source": [
        "## Read Dataset"
      ],
      "metadata": {
        "id": "bXt08j1Rntox"
      }
    },
    {
      "cell_type": "code",
      "source": [
        "import pandas as pd\n",
        "data = pd.read_excel('market-basket.xlsx')\n",
        "data.head()"
      ],
      "metadata": {
        "colab": {
          "base_uri": "https://localhost:8080/",
          "height": 395
        },
        "id": "UQwRZcspYwQV",
        "outputId": "838ba78e-6b98-4478-898a-b0a6b1a20a65"
      },
      "execution_count": 3,
      "outputs": [
        {
          "output_type": "execute_result",
          "data": {
            "text/plain": [
              "   BillNo                             Itemname  Quantity              Date  \\\n",
              "0  536365   WHITE HANGING HEART T-LIGHT HOLDER         6  01.12.2010 08:26   \n",
              "1  536365                  WHITE METAL LANTERN         6  01.12.2010 08:26   \n",
              "2  536365       CREAM CUPID HEARTS COAT HANGER         8  01.12.2010 08:26   \n",
              "3  536365  KNITTED UNION FLAG HOT WATER BOTTLE         6  01.12.2010 08:26   \n",
              "4  536365       RED WOOLLY HOTTIE WHITE HEART.         6  01.12.2010 08:26   \n",
              "\n",
              "   Price  CustomerID         Country  \n",
              "0   2.55     17850.0  United Kingdom  \n",
              "1   3.39     17850.0  United Kingdom  \n",
              "2   2.75     17850.0  United Kingdom  \n",
              "3   3.39     17850.0  United Kingdom  \n",
              "4   3.39     17850.0  United Kingdom  "
            ],
            "text/html": [
              "\n",
              "  <div id=\"df-559d3b1e-b63d-4818-84fd-c0720e87c9df\">\n",
              "    <div class=\"colab-df-container\">\n",
              "      <div>\n",
              "<style scoped>\n",
              "    .dataframe tbody tr th:only-of-type {\n",
              "        vertical-align: middle;\n",
              "    }\n",
              "\n",
              "    .dataframe tbody tr th {\n",
              "        vertical-align: top;\n",
              "    }\n",
              "\n",
              "    .dataframe thead th {\n",
              "        text-align: right;\n",
              "    }\n",
              "</style>\n",
              "<table border=\"1\" class=\"dataframe\">\n",
              "  <thead>\n",
              "    <tr style=\"text-align: right;\">\n",
              "      <th></th>\n",
              "      <th>BillNo</th>\n",
              "      <th>Itemname</th>\n",
              "      <th>Quantity</th>\n",
              "      <th>Date</th>\n",
              "      <th>Price</th>\n",
              "      <th>CustomerID</th>\n",
              "      <th>Country</th>\n",
              "    </tr>\n",
              "  </thead>\n",
              "  <tbody>\n",
              "    <tr>\n",
              "      <th>0</th>\n",
              "      <td>536365</td>\n",
              "      <td>WHITE HANGING HEART T-LIGHT HOLDER</td>\n",
              "      <td>6</td>\n",
              "      <td>01.12.2010 08:26</td>\n",
              "      <td>2.55</td>\n",
              "      <td>17850.0</td>\n",
              "      <td>United Kingdom</td>\n",
              "    </tr>\n",
              "    <tr>\n",
              "      <th>1</th>\n",
              "      <td>536365</td>\n",
              "      <td>WHITE METAL LANTERN</td>\n",
              "      <td>6</td>\n",
              "      <td>01.12.2010 08:26</td>\n",
              "      <td>3.39</td>\n",
              "      <td>17850.0</td>\n",
              "      <td>United Kingdom</td>\n",
              "    </tr>\n",
              "    <tr>\n",
              "      <th>2</th>\n",
              "      <td>536365</td>\n",
              "      <td>CREAM CUPID HEARTS COAT HANGER</td>\n",
              "      <td>8</td>\n",
              "      <td>01.12.2010 08:26</td>\n",
              "      <td>2.75</td>\n",
              "      <td>17850.0</td>\n",
              "      <td>United Kingdom</td>\n",
              "    </tr>\n",
              "    <tr>\n",
              "      <th>3</th>\n",
              "      <td>536365</td>\n",
              "      <td>KNITTED UNION FLAG HOT WATER BOTTLE</td>\n",
              "      <td>6</td>\n",
              "      <td>01.12.2010 08:26</td>\n",
              "      <td>3.39</td>\n",
              "      <td>17850.0</td>\n",
              "      <td>United Kingdom</td>\n",
              "    </tr>\n",
              "    <tr>\n",
              "      <th>4</th>\n",
              "      <td>536365</td>\n",
              "      <td>RED WOOLLY HOTTIE WHITE HEART.</td>\n",
              "      <td>6</td>\n",
              "      <td>01.12.2010 08:26</td>\n",
              "      <td>3.39</td>\n",
              "      <td>17850.0</td>\n",
              "      <td>United Kingdom</td>\n",
              "    </tr>\n",
              "  </tbody>\n",
              "</table>\n",
              "</div>\n",
              "      <button class=\"colab-df-convert\" onclick=\"convertToInteractive('df-559d3b1e-b63d-4818-84fd-c0720e87c9df')\"\n",
              "              title=\"Convert this dataframe to an interactive table.\"\n",
              "              style=\"display:none;\">\n",
              "        \n",
              "  <svg xmlns=\"http://www.w3.org/2000/svg\" height=\"24px\"viewBox=\"0 0 24 24\"\n",
              "       width=\"24px\">\n",
              "    <path d=\"M0 0h24v24H0V0z\" fill=\"none\"/>\n",
              "    <path d=\"M18.56 5.44l.94 2.06.94-2.06 2.06-.94-2.06-.94-.94-2.06-.94 2.06-2.06.94zm-11 1L8.5 8.5l.94-2.06 2.06-.94-2.06-.94L8.5 2.5l-.94 2.06-2.06.94zm10 10l.94 2.06.94-2.06 2.06-.94-2.06-.94-.94-2.06-.94 2.06-2.06.94z\"/><path d=\"M17.41 7.96l-1.37-1.37c-.4-.4-.92-.59-1.43-.59-.52 0-1.04.2-1.43.59L10.3 9.45l-7.72 7.72c-.78.78-.78 2.05 0 2.83L4 21.41c.39.39.9.59 1.41.59.51 0 1.02-.2 1.41-.59l7.78-7.78 2.81-2.81c.8-.78.8-2.07 0-2.86zM5.41 20L4 18.59l7.72-7.72 1.47 1.35L5.41 20z\"/>\n",
              "  </svg>\n",
              "      </button>\n",
              "      \n",
              "  <style>\n",
              "    .colab-df-container {\n",
              "      display:flex;\n",
              "      flex-wrap:wrap;\n",
              "      gap: 12px;\n",
              "    }\n",
              "\n",
              "    .colab-df-convert {\n",
              "      background-color: #E8F0FE;\n",
              "      border: none;\n",
              "      border-radius: 50%;\n",
              "      cursor: pointer;\n",
              "      display: none;\n",
              "      fill: #1967D2;\n",
              "      height: 32px;\n",
              "      padding: 0 0 0 0;\n",
              "      width: 32px;\n",
              "    }\n",
              "\n",
              "    .colab-df-convert:hover {\n",
              "      background-color: #E2EBFA;\n",
              "      box-shadow: 0px 1px 2px rgba(60, 64, 67, 0.3), 0px 1px 3px 1px rgba(60, 64, 67, 0.15);\n",
              "      fill: #174EA6;\n",
              "    }\n",
              "\n",
              "    [theme=dark] .colab-df-convert {\n",
              "      background-color: #3B4455;\n",
              "      fill: #D2E3FC;\n",
              "    }\n",
              "\n",
              "    [theme=dark] .colab-df-convert:hover {\n",
              "      background-color: #434B5C;\n",
              "      box-shadow: 0px 1px 3px 1px rgba(0, 0, 0, 0.15);\n",
              "      filter: drop-shadow(0px 1px 2px rgba(0, 0, 0, 0.3));\n",
              "      fill: #FFFFFF;\n",
              "    }\n",
              "  </style>\n",
              "\n",
              "      <script>\n",
              "        const buttonEl =\n",
              "          document.querySelector('#df-559d3b1e-b63d-4818-84fd-c0720e87c9df button.colab-df-convert');\n",
              "        buttonEl.style.display =\n",
              "          google.colab.kernel.accessAllowed ? 'block' : 'none';\n",
              "\n",
              "        async function convertToInteractive(key) {\n",
              "          const element = document.querySelector('#df-559d3b1e-b63d-4818-84fd-c0720e87c9df');\n",
              "          const dataTable =\n",
              "            await google.colab.kernel.invokeFunction('convertToInteractive',\n",
              "                                                     [key], {});\n",
              "          if (!dataTable) return;\n",
              "\n",
              "          const docLinkHtml = 'Like what you see? Visit the ' +\n",
              "            '<a target=\"_blank\" href=https://colab.research.google.com/notebooks/data_table.ipynb>data table notebook</a>'\n",
              "            + ' to learn more about interactive tables.';\n",
              "          element.innerHTML = '';\n",
              "          dataTable['output_type'] = 'display_data';\n",
              "          await google.colab.output.renderOutput(dataTable, element);\n",
              "          const docLink = document.createElement('div');\n",
              "          docLink.innerHTML = docLinkHtml;\n",
              "          element.appendChild(docLink);\n",
              "        }\n",
              "      </script>\n",
              "    </div>\n",
              "  </div>\n",
              "  "
            ]
          },
          "metadata": {},
          "execution_count": 3
        },
        {
          "output_type": "execute_result",
          "data": {
            "text/plain": [
              "   BillNo                             Itemname  Quantity              Date  \\\n",
              "0  536365   WHITE HANGING HEART T-LIGHT HOLDER         6  01.12.2010 08:26   \n",
              "1  536365                  WHITE METAL LANTERN         6  01.12.2010 08:26   \n",
              "2  536365       CREAM CUPID HEARTS COAT HANGER         8  01.12.2010 08:26   \n",
              "3  536365  KNITTED UNION FLAG HOT WATER BOTTLE         6  01.12.2010 08:26   \n",
              "4  536365       RED WOOLLY HOTTIE WHITE HEART.         6  01.12.2010 08:26   \n",
              "\n",
              "   Price  CustomerID         Country  \n",
              "0   2.55     17850.0  United Kingdom  \n",
              "1   3.39     17850.0  United Kingdom  \n",
              "2   2.75     17850.0  United Kingdom  \n",
              "3   3.39     17850.0  United Kingdom  \n",
              "4   3.39     17850.0  United Kingdom  "
            ],
            "text/html": [
              "\n",
              "  <div id=\"df-559d3b1e-b63d-4818-84fd-c0720e87c9df\">\n",
              "    <div class=\"colab-df-container\">\n",
              "      <div>\n",
              "<style scoped>\n",
              "    .dataframe tbody tr th:only-of-type {\n",
              "        vertical-align: middle;\n",
              "    }\n",
              "\n",
              "    .dataframe tbody tr th {\n",
              "        vertical-align: top;\n",
              "    }\n",
              "\n",
              "    .dataframe thead th {\n",
              "        text-align: right;\n",
              "    }\n",
              "</style>\n",
              "<table border=\"1\" class=\"dataframe\">\n",
              "  <thead>\n",
              "    <tr style=\"text-align: right;\">\n",
              "      <th></th>\n",
              "      <th>BillNo</th>\n",
              "      <th>Itemname</th>\n",
              "      <th>Quantity</th>\n",
              "      <th>Date</th>\n",
              "      <th>Price</th>\n",
              "      <th>CustomerID</th>\n",
              "      <th>Country</th>\n",
              "    </tr>\n",
              "  </thead>\n",
              "  <tbody>\n",
              "    <tr>\n",
              "      <th>0</th>\n",
              "      <td>536365</td>\n",
              "      <td>WHITE HANGING HEART T-LIGHT HOLDER</td>\n",
              "      <td>6</td>\n",
              "      <td>01.12.2010 08:26</td>\n",
              "      <td>2.55</td>\n",
              "      <td>17850.0</td>\n",
              "      <td>United Kingdom</td>\n",
              "    </tr>\n",
              "    <tr>\n",
              "      <th>1</th>\n",
              "      <td>536365</td>\n",
              "      <td>WHITE METAL LANTERN</td>\n",
              "      <td>6</td>\n",
              "      <td>01.12.2010 08:26</td>\n",
              "      <td>3.39</td>\n",
              "      <td>17850.0</td>\n",
              "      <td>United Kingdom</td>\n",
              "    </tr>\n",
              "    <tr>\n",
              "      <th>2</th>\n",
              "      <td>536365</td>\n",
              "      <td>CREAM CUPID HEARTS COAT HANGER</td>\n",
              "      <td>8</td>\n",
              "      <td>01.12.2010 08:26</td>\n",
              "      <td>2.75</td>\n",
              "      <td>17850.0</td>\n",
              "      <td>United Kingdom</td>\n",
              "    </tr>\n",
              "    <tr>\n",
              "      <th>3</th>\n",
              "      <td>536365</td>\n",
              "      <td>KNITTED UNION FLAG HOT WATER BOTTLE</td>\n",
              "      <td>6</td>\n",
              "      <td>01.12.2010 08:26</td>\n",
              "      <td>3.39</td>\n",
              "      <td>17850.0</td>\n",
              "      <td>United Kingdom</td>\n",
              "    </tr>\n",
              "    <tr>\n",
              "      <th>4</th>\n",
              "      <td>536365</td>\n",
              "      <td>RED WOOLLY HOTTIE WHITE HEART.</td>\n",
              "      <td>6</td>\n",
              "      <td>01.12.2010 08:26</td>\n",
              "      <td>3.39</td>\n",
              "      <td>17850.0</td>\n",
              "      <td>United Kingdom</td>\n",
              "    </tr>\n",
              "  </tbody>\n",
              "</table>\n",
              "</div>\n",
              "      <button class=\"colab-df-convert\" onclick=\"convertToInteractive('df-559d3b1e-b63d-4818-84fd-c0720e87c9df')\"\n",
              "              title=\"Convert this dataframe to an interactive table.\"\n",
              "              style=\"display:none;\">\n",
              "        \n",
              "  <svg xmlns=\"http://www.w3.org/2000/svg\" height=\"24px\"viewBox=\"0 0 24 24\"\n",
              "       width=\"24px\">\n",
              "    <path d=\"M0 0h24v24H0V0z\" fill=\"none\"/>\n",
              "    <path d=\"M18.56 5.44l.94 2.06.94-2.06 2.06-.94-2.06-.94-.94-2.06-.94 2.06-2.06.94zm-11 1L8.5 8.5l.94-2.06 2.06-.94-2.06-.94L8.5 2.5l-.94 2.06-2.06.94zm10 10l.94 2.06.94-2.06 2.06-.94-2.06-.94-.94-2.06-.94 2.06-2.06.94z\"/><path d=\"M17.41 7.96l-1.37-1.37c-.4-.4-.92-.59-1.43-.59-.52 0-1.04.2-1.43.59L10.3 9.45l-7.72 7.72c-.78.78-.78 2.05 0 2.83L4 21.41c.39.39.9.59 1.41.59.51 0 1.02-.2 1.41-.59l7.78-7.78 2.81-2.81c.8-.78.8-2.07 0-2.86zM5.41 20L4 18.59l7.72-7.72 1.47 1.35L5.41 20z\"/>\n",
              "  </svg>\n",
              "      </button>\n",
              "      \n",
              "  <style>\n",
              "    .colab-df-container {\n",
              "      display:flex;\n",
              "      flex-wrap:wrap;\n",
              "      gap: 12px;\n",
              "    }\n",
              "\n",
              "    .colab-df-convert {\n",
              "      background-color: #E8F0FE;\n",
              "      border: none;\n",
              "      border-radius: 50%;\n",
              "      cursor: pointer;\n",
              "      display: none;\n",
              "      fill: #1967D2;\n",
              "      height: 32px;\n",
              "      padding: 0 0 0 0;\n",
              "      width: 32px;\n",
              "    }\n",
              "\n",
              "    .colab-df-convert:hover {\n",
              "      background-color: #E2EBFA;\n",
              "      box-shadow: 0px 1px 2px rgba(60, 64, 67, 0.3), 0px 1px 3px 1px rgba(60, 64, 67, 0.15);\n",
              "      fill: #174EA6;\n",
              "    }\n",
              "\n",
              "    [theme=dark] .colab-df-convert {\n",
              "      background-color: #3B4455;\n",
              "      fill: #D2E3FC;\n",
              "    }\n",
              "\n",
              "    [theme=dark] .colab-df-convert:hover {\n",
              "      background-color: #434B5C;\n",
              "      box-shadow: 0px 1px 3px 1px rgba(0, 0, 0, 0.15);\n",
              "      filter: drop-shadow(0px 1px 2px rgba(0, 0, 0, 0.3));\n",
              "      fill: #FFFFFF;\n",
              "    }\n",
              "  </style>\n",
              "\n",
              "      <script>\n",
              "        const buttonEl =\n",
              "          document.querySelector('#df-559d3b1e-b63d-4818-84fd-c0720e87c9df button.colab-df-convert');\n",
              "        buttonEl.style.display =\n",
              "          google.colab.kernel.accessAllowed ? 'block' : 'none';\n",
              "\n",
              "        async function convertToInteractive(key) {\n",
              "          const element = document.querySelector('#df-559d3b1e-b63d-4818-84fd-c0720e87c9df');\n",
              "          const dataTable =\n",
              "            await google.colab.kernel.invokeFunction('convertToInteractive',\n",
              "                                                     [key], {});\n",
              "          if (!dataTable) return;\n",
              "\n",
              "          const docLinkHtml = 'Like what you see? Visit the ' +\n",
              "            '<a target=\"_blank\" href=https://colab.research.google.com/notebooks/data_table.ipynb>data table notebook</a>'\n",
              "            + ' to learn more about interactive tables.';\n",
              "          element.innerHTML = '';\n",
              "          dataTable['output_type'] = 'display_data';\n",
              "          await google.colab.output.renderOutput(dataTable, element);\n",
              "          const docLink = document.createElement('div');\n",
              "          docLink.innerHTML = docLinkHtml;\n",
              "          element.appendChild(docLink);\n",
              "        }\n",
              "      </script>\n",
              "    </div>\n",
              "  </div>\n",
              "  "
            ]
          },
          "metadata": {},
          "execution_count": 3
        }
      ]
    },
    {
      "cell_type": "markdown",
      "source": [
        "## Select useful columns"
      ],
      "metadata": {
        "id": "-nqDLU4pn0S4"
      }
    },
    {
      "cell_type": "code",
      "source": [
        "df1 = data[['CustomerID','BillNo','Itemname']]\n",
        "df1.head()"
      ],
      "metadata": {
        "colab": {
          "base_uri": "https://localhost:8080/",
          "height": 206
        },
        "id": "qfqOJeDhZYvT",
        "outputId": "89fa7dad-e9f8-40a7-a06f-a53b68ab6166"
      },
      "execution_count": null,
      "outputs": [
        {
          "output_type": "execute_result",
          "data": {
            "text/plain": [
              "   CustomerID  BillNo                             Itemname\n",
              "0     17850.0  536365   WHITE HANGING HEART T-LIGHT HOLDER\n",
              "1     17850.0  536365                  WHITE METAL LANTERN\n",
              "2     17850.0  536365       CREAM CUPID HEARTS COAT HANGER\n",
              "3     17850.0  536365  KNITTED UNION FLAG HOT WATER BOTTLE\n",
              "4     17850.0  536365       RED WOOLLY HOTTIE WHITE HEART."
            ],
            "text/html": [
              "\n",
              "  <div id=\"df-ede0bf84-4d87-42af-a627-92a523f7ad24\">\n",
              "    <div class=\"colab-df-container\">\n",
              "      <div>\n",
              "<style scoped>\n",
              "    .dataframe tbody tr th:only-of-type {\n",
              "        vertical-align: middle;\n",
              "    }\n",
              "\n",
              "    .dataframe tbody tr th {\n",
              "        vertical-align: top;\n",
              "    }\n",
              "\n",
              "    .dataframe thead th {\n",
              "        text-align: right;\n",
              "    }\n",
              "</style>\n",
              "<table border=\"1\" class=\"dataframe\">\n",
              "  <thead>\n",
              "    <tr style=\"text-align: right;\">\n",
              "      <th></th>\n",
              "      <th>CustomerID</th>\n",
              "      <th>BillNo</th>\n",
              "      <th>Itemname</th>\n",
              "    </tr>\n",
              "  </thead>\n",
              "  <tbody>\n",
              "    <tr>\n",
              "      <th>0</th>\n",
              "      <td>17850.0</td>\n",
              "      <td>536365</td>\n",
              "      <td>WHITE HANGING HEART T-LIGHT HOLDER</td>\n",
              "    </tr>\n",
              "    <tr>\n",
              "      <th>1</th>\n",
              "      <td>17850.0</td>\n",
              "      <td>536365</td>\n",
              "      <td>WHITE METAL LANTERN</td>\n",
              "    </tr>\n",
              "    <tr>\n",
              "      <th>2</th>\n",
              "      <td>17850.0</td>\n",
              "      <td>536365</td>\n",
              "      <td>CREAM CUPID HEARTS COAT HANGER</td>\n",
              "    </tr>\n",
              "    <tr>\n",
              "      <th>3</th>\n",
              "      <td>17850.0</td>\n",
              "      <td>536365</td>\n",
              "      <td>KNITTED UNION FLAG HOT WATER BOTTLE</td>\n",
              "    </tr>\n",
              "    <tr>\n",
              "      <th>4</th>\n",
              "      <td>17850.0</td>\n",
              "      <td>536365</td>\n",
              "      <td>RED WOOLLY HOTTIE WHITE HEART.</td>\n",
              "    </tr>\n",
              "  </tbody>\n",
              "</table>\n",
              "</div>\n",
              "      <button class=\"colab-df-convert\" onclick=\"convertToInteractive('df-ede0bf84-4d87-42af-a627-92a523f7ad24')\"\n",
              "              title=\"Convert this dataframe to an interactive table.\"\n",
              "              style=\"display:none;\">\n",
              "        \n",
              "  <svg xmlns=\"http://www.w3.org/2000/svg\" height=\"24px\"viewBox=\"0 0 24 24\"\n",
              "       width=\"24px\">\n",
              "    <path d=\"M0 0h24v24H0V0z\" fill=\"none\"/>\n",
              "    <path d=\"M18.56 5.44l.94 2.06.94-2.06 2.06-.94-2.06-.94-.94-2.06-.94 2.06-2.06.94zm-11 1L8.5 8.5l.94-2.06 2.06-.94-2.06-.94L8.5 2.5l-.94 2.06-2.06.94zm10 10l.94 2.06.94-2.06 2.06-.94-2.06-.94-.94-2.06-.94 2.06-2.06.94z\"/><path d=\"M17.41 7.96l-1.37-1.37c-.4-.4-.92-.59-1.43-.59-.52 0-1.04.2-1.43.59L10.3 9.45l-7.72 7.72c-.78.78-.78 2.05 0 2.83L4 21.41c.39.39.9.59 1.41.59.51 0 1.02-.2 1.41-.59l7.78-7.78 2.81-2.81c.8-.78.8-2.07 0-2.86zM5.41 20L4 18.59l7.72-7.72 1.47 1.35L5.41 20z\"/>\n",
              "  </svg>\n",
              "      </button>\n",
              "      \n",
              "  <style>\n",
              "    .colab-df-container {\n",
              "      display:flex;\n",
              "      flex-wrap:wrap;\n",
              "      gap: 12px;\n",
              "    }\n",
              "\n",
              "    .colab-df-convert {\n",
              "      background-color: #E8F0FE;\n",
              "      border: none;\n",
              "      border-radius: 50%;\n",
              "      cursor: pointer;\n",
              "      display: none;\n",
              "      fill: #1967D2;\n",
              "      height: 32px;\n",
              "      padding: 0 0 0 0;\n",
              "      width: 32px;\n",
              "    }\n",
              "\n",
              "    .colab-df-convert:hover {\n",
              "      background-color: #E2EBFA;\n",
              "      box-shadow: 0px 1px 2px rgba(60, 64, 67, 0.3), 0px 1px 3px 1px rgba(60, 64, 67, 0.15);\n",
              "      fill: #174EA6;\n",
              "    }\n",
              "\n",
              "    [theme=dark] .colab-df-convert {\n",
              "      background-color: #3B4455;\n",
              "      fill: #D2E3FC;\n",
              "    }\n",
              "\n",
              "    [theme=dark] .colab-df-convert:hover {\n",
              "      background-color: #434B5C;\n",
              "      box-shadow: 0px 1px 3px 1px rgba(0, 0, 0, 0.15);\n",
              "      filter: drop-shadow(0px 1px 2px rgba(0, 0, 0, 0.3));\n",
              "      fill: #FFFFFF;\n",
              "    }\n",
              "  </style>\n",
              "\n",
              "      <script>\n",
              "        const buttonEl =\n",
              "          document.querySelector('#df-ede0bf84-4d87-42af-a627-92a523f7ad24 button.colab-df-convert');\n",
              "        buttonEl.style.display =\n",
              "          google.colab.kernel.accessAllowed ? 'block' : 'none';\n",
              "\n",
              "        async function convertToInteractive(key) {\n",
              "          const element = document.querySelector('#df-ede0bf84-4d87-42af-a627-92a523f7ad24');\n",
              "          const dataTable =\n",
              "            await google.colab.kernel.invokeFunction('convertToInteractive',\n",
              "                                                     [key], {});\n",
              "          if (!dataTable) return;\n",
              "\n",
              "          const docLinkHtml = 'Like what you see? Visit the ' +\n",
              "            '<a target=\"_blank\" href=https://colab.research.google.com/notebooks/data_table.ipynb>data table notebook</a>'\n",
              "            + ' to learn more about interactive tables.';\n",
              "          element.innerHTML = '';\n",
              "          dataTable['output_type'] = 'display_data';\n",
              "          await google.colab.output.renderOutput(dataTable, element);\n",
              "          const docLink = document.createElement('div');\n",
              "          docLink.innerHTML = docLinkHtml;\n",
              "          element.appendChild(docLink);\n",
              "        }\n",
              "      </script>\n",
              "    </div>\n",
              "  </div>\n",
              "  "
            ]
          },
          "metadata": {},
          "execution_count": 4
        }
      ]
    },
    {
      "cell_type": "markdown",
      "source": [
        "## Group item name with the bill number"
      ],
      "metadata": {
        "id": "Md_vyssrn5Vh"
      }
    },
    {
      "cell_type": "code",
      "source": [
        "df=df1.groupby ('BillNo') ['Itemname']. apply (lambda x: x.reset_index (drop = True)). unstack (). reset_index ()\n",
        "df.drop('BillNo',axis=1, inplace=True)\n",
        "df.head()"
      ],
      "metadata": {
        "colab": {
          "base_uri": "https://localhost:8080/",
          "height": 577
        },
        "id": "LxFUfxyFdt09",
        "outputId": "e4dec61b-573b-45f7-a329-b9ce0eb57fc7"
      },
      "execution_count": null,
      "outputs": [
        {
          "output_type": "execute_result",
          "data": {
            "text/plain": [
              "                                 0                            1     \\\n",
              "0  WHITE HANGING HEART T-LIGHT HOLDER          WHITE METAL LANTERN   \n",
              "1              HAND WARMER UNION JACK    HAND WARMER RED POLKA DOT   \n",
              "2       ASSORTED COLOUR BIRD ORNAMENT    POPPY'S PLAYHOUSE BEDROOM   \n",
              "3            JAM MAKING SET WITH JARS  RED COAT RACK PARIS FASHION   \n",
              "4            BATH BUILDING BLOCK WORD                          NaN   \n",
              "\n",
              "                             2                                    3     \\\n",
              "0  CREAM CUPID HEARTS COAT HANGER  KNITTED UNION FLAG HOT WATER BOTTLE   \n",
              "1                             NaN                                  NaN   \n",
              "2       POPPY'S PLAYHOUSE KITCHEN    FELTCRAFT PRINCESS CHARLOTTE DOLL   \n",
              "3  YELLOW COAT RACK PARIS FASHION         BLUE COAT RACK PARIS FASHION   \n",
              "4                             NaN                                  NaN   \n",
              "\n",
              "                             4                                   5     \\\n",
              "0  RED WOOLLY HOTTIE WHITE HEART.        SET 7 BABUSHKA NESTING BOXES   \n",
              "1                             NaN                                 NaN   \n",
              "2          IVORY KNITTED MUG COSY  BOX OF 6 ASSORTED COLOUR TEASPOONS   \n",
              "3                             NaN                                 NaN   \n",
              "4                             NaN                                 NaN   \n",
              "\n",
              "                                6                               7     \\\n",
              "0  GLASS STAR FROSTED T-LIGHT HOLDER                             NaN   \n",
              "1                                NaN                             NaN   \n",
              "2       BOX OF VINTAGE JIGSAW BLOCKS  BOX OF VINTAGE ALPHABET BLOCKS   \n",
              "3                                NaN                             NaN   \n",
              "4                                NaN                             NaN   \n",
              "\n",
              "                       8                         9     ... 1104 1105 1106  \\\n",
              "0                       NaN                       NaN  ...  NaN  NaN  NaN   \n",
              "1                       NaN                       NaN  ...  NaN  NaN  NaN   \n",
              "2  HOME BUILDING BLOCK WORD  LOVE BUILDING BLOCK WORD  ...  NaN  NaN  NaN   \n",
              "3                       NaN                       NaN  ...  NaN  NaN  NaN   \n",
              "4                       NaN                       NaN  ...  NaN  NaN  NaN   \n",
              "\n",
              "  1107 1108 1109 1110 1111 1112 1113  \n",
              "0  NaN  NaN  NaN  NaN  NaN  NaN  NaN  \n",
              "1  NaN  NaN  NaN  NaN  NaN  NaN  NaN  \n",
              "2  NaN  NaN  NaN  NaN  NaN  NaN  NaN  \n",
              "3  NaN  NaN  NaN  NaN  NaN  NaN  NaN  \n",
              "4  NaN  NaN  NaN  NaN  NaN  NaN  NaN  \n",
              "\n",
              "[5 rows x 1114 columns]"
            ],
            "text/html": [
              "\n",
              "  <div id=\"df-d6814a4a-73a1-414e-bad4-386a01789158\">\n",
              "    <div class=\"colab-df-container\">\n",
              "      <div>\n",
              "<style scoped>\n",
              "    .dataframe tbody tr th:only-of-type {\n",
              "        vertical-align: middle;\n",
              "    }\n",
              "\n",
              "    .dataframe tbody tr th {\n",
              "        vertical-align: top;\n",
              "    }\n",
              "\n",
              "    .dataframe thead th {\n",
              "        text-align: right;\n",
              "    }\n",
              "</style>\n",
              "<table border=\"1\" class=\"dataframe\">\n",
              "  <thead>\n",
              "    <tr style=\"text-align: right;\">\n",
              "      <th></th>\n",
              "      <th>0</th>\n",
              "      <th>1</th>\n",
              "      <th>2</th>\n",
              "      <th>3</th>\n",
              "      <th>4</th>\n",
              "      <th>5</th>\n",
              "      <th>6</th>\n",
              "      <th>7</th>\n",
              "      <th>8</th>\n",
              "      <th>9</th>\n",
              "      <th>...</th>\n",
              "      <th>1104</th>\n",
              "      <th>1105</th>\n",
              "      <th>1106</th>\n",
              "      <th>1107</th>\n",
              "      <th>1108</th>\n",
              "      <th>1109</th>\n",
              "      <th>1110</th>\n",
              "      <th>1111</th>\n",
              "      <th>1112</th>\n",
              "      <th>1113</th>\n",
              "    </tr>\n",
              "  </thead>\n",
              "  <tbody>\n",
              "    <tr>\n",
              "      <th>0</th>\n",
              "      <td>WHITE HANGING HEART T-LIGHT HOLDER</td>\n",
              "      <td>WHITE METAL LANTERN</td>\n",
              "      <td>CREAM CUPID HEARTS COAT HANGER</td>\n",
              "      <td>KNITTED UNION FLAG HOT WATER BOTTLE</td>\n",
              "      <td>RED WOOLLY HOTTIE WHITE HEART.</td>\n",
              "      <td>SET 7 BABUSHKA NESTING BOXES</td>\n",
              "      <td>GLASS STAR FROSTED T-LIGHT HOLDER</td>\n",
              "      <td>NaN</td>\n",
              "      <td>NaN</td>\n",
              "      <td>NaN</td>\n",
              "      <td>...</td>\n",
              "      <td>NaN</td>\n",
              "      <td>NaN</td>\n",
              "      <td>NaN</td>\n",
              "      <td>NaN</td>\n",
              "      <td>NaN</td>\n",
              "      <td>NaN</td>\n",
              "      <td>NaN</td>\n",
              "      <td>NaN</td>\n",
              "      <td>NaN</td>\n",
              "      <td>NaN</td>\n",
              "    </tr>\n",
              "    <tr>\n",
              "      <th>1</th>\n",
              "      <td>HAND WARMER UNION JACK</td>\n",
              "      <td>HAND WARMER RED POLKA DOT</td>\n",
              "      <td>NaN</td>\n",
              "      <td>NaN</td>\n",
              "      <td>NaN</td>\n",
              "      <td>NaN</td>\n",
              "      <td>NaN</td>\n",
              "      <td>NaN</td>\n",
              "      <td>NaN</td>\n",
              "      <td>NaN</td>\n",
              "      <td>...</td>\n",
              "      <td>NaN</td>\n",
              "      <td>NaN</td>\n",
              "      <td>NaN</td>\n",
              "      <td>NaN</td>\n",
              "      <td>NaN</td>\n",
              "      <td>NaN</td>\n",
              "      <td>NaN</td>\n",
              "      <td>NaN</td>\n",
              "      <td>NaN</td>\n",
              "      <td>NaN</td>\n",
              "    </tr>\n",
              "    <tr>\n",
              "      <th>2</th>\n",
              "      <td>ASSORTED COLOUR BIRD ORNAMENT</td>\n",
              "      <td>POPPY'S PLAYHOUSE BEDROOM</td>\n",
              "      <td>POPPY'S PLAYHOUSE KITCHEN</td>\n",
              "      <td>FELTCRAFT PRINCESS CHARLOTTE DOLL</td>\n",
              "      <td>IVORY KNITTED MUG COSY</td>\n",
              "      <td>BOX OF 6 ASSORTED COLOUR TEASPOONS</td>\n",
              "      <td>BOX OF VINTAGE JIGSAW BLOCKS</td>\n",
              "      <td>BOX OF VINTAGE ALPHABET BLOCKS</td>\n",
              "      <td>HOME BUILDING BLOCK WORD</td>\n",
              "      <td>LOVE BUILDING BLOCK WORD</td>\n",
              "      <td>...</td>\n",
              "      <td>NaN</td>\n",
              "      <td>NaN</td>\n",
              "      <td>NaN</td>\n",
              "      <td>NaN</td>\n",
              "      <td>NaN</td>\n",
              "      <td>NaN</td>\n",
              "      <td>NaN</td>\n",
              "      <td>NaN</td>\n",
              "      <td>NaN</td>\n",
              "      <td>NaN</td>\n",
              "    </tr>\n",
              "    <tr>\n",
              "      <th>3</th>\n",
              "      <td>JAM MAKING SET WITH JARS</td>\n",
              "      <td>RED COAT RACK PARIS FASHION</td>\n",
              "      <td>YELLOW COAT RACK PARIS FASHION</td>\n",
              "      <td>BLUE COAT RACK PARIS FASHION</td>\n",
              "      <td>NaN</td>\n",
              "      <td>NaN</td>\n",
              "      <td>NaN</td>\n",
              "      <td>NaN</td>\n",
              "      <td>NaN</td>\n",
              "      <td>NaN</td>\n",
              "      <td>...</td>\n",
              "      <td>NaN</td>\n",
              "      <td>NaN</td>\n",
              "      <td>NaN</td>\n",
              "      <td>NaN</td>\n",
              "      <td>NaN</td>\n",
              "      <td>NaN</td>\n",
              "      <td>NaN</td>\n",
              "      <td>NaN</td>\n",
              "      <td>NaN</td>\n",
              "      <td>NaN</td>\n",
              "    </tr>\n",
              "    <tr>\n",
              "      <th>4</th>\n",
              "      <td>BATH BUILDING BLOCK WORD</td>\n",
              "      <td>NaN</td>\n",
              "      <td>NaN</td>\n",
              "      <td>NaN</td>\n",
              "      <td>NaN</td>\n",
              "      <td>NaN</td>\n",
              "      <td>NaN</td>\n",
              "      <td>NaN</td>\n",
              "      <td>NaN</td>\n",
              "      <td>NaN</td>\n",
              "      <td>...</td>\n",
              "      <td>NaN</td>\n",
              "      <td>NaN</td>\n",
              "      <td>NaN</td>\n",
              "      <td>NaN</td>\n",
              "      <td>NaN</td>\n",
              "      <td>NaN</td>\n",
              "      <td>NaN</td>\n",
              "      <td>NaN</td>\n",
              "      <td>NaN</td>\n",
              "      <td>NaN</td>\n",
              "    </tr>\n",
              "  </tbody>\n",
              "</table>\n",
              "<p>5 rows × 1114 columns</p>\n",
              "</div>\n",
              "      <button class=\"colab-df-convert\" onclick=\"convertToInteractive('df-d6814a4a-73a1-414e-bad4-386a01789158')\"\n",
              "              title=\"Convert this dataframe to an interactive table.\"\n",
              "              style=\"display:none;\">\n",
              "        \n",
              "  <svg xmlns=\"http://www.w3.org/2000/svg\" height=\"24px\"viewBox=\"0 0 24 24\"\n",
              "       width=\"24px\">\n",
              "    <path d=\"M0 0h24v24H0V0z\" fill=\"none\"/>\n",
              "    <path d=\"M18.56 5.44l.94 2.06.94-2.06 2.06-.94-2.06-.94-.94-2.06-.94 2.06-2.06.94zm-11 1L8.5 8.5l.94-2.06 2.06-.94-2.06-.94L8.5 2.5l-.94 2.06-2.06.94zm10 10l.94 2.06.94-2.06 2.06-.94-2.06-.94-.94-2.06-.94 2.06-2.06.94z\"/><path d=\"M17.41 7.96l-1.37-1.37c-.4-.4-.92-.59-1.43-.59-.52 0-1.04.2-1.43.59L10.3 9.45l-7.72 7.72c-.78.78-.78 2.05 0 2.83L4 21.41c.39.39.9.59 1.41.59.51 0 1.02-.2 1.41-.59l7.78-7.78 2.81-2.81c.8-.78.8-2.07 0-2.86zM5.41 20L4 18.59l7.72-7.72 1.47 1.35L5.41 20z\"/>\n",
              "  </svg>\n",
              "      </button>\n",
              "      \n",
              "  <style>\n",
              "    .colab-df-container {\n",
              "      display:flex;\n",
              "      flex-wrap:wrap;\n",
              "      gap: 12px;\n",
              "    }\n",
              "\n",
              "    .colab-df-convert {\n",
              "      background-color: #E8F0FE;\n",
              "      border: none;\n",
              "      border-radius: 50%;\n",
              "      cursor: pointer;\n",
              "      display: none;\n",
              "      fill: #1967D2;\n",
              "      height: 32px;\n",
              "      padding: 0 0 0 0;\n",
              "      width: 32px;\n",
              "    }\n",
              "\n",
              "    .colab-df-convert:hover {\n",
              "      background-color: #E2EBFA;\n",
              "      box-shadow: 0px 1px 2px rgba(60, 64, 67, 0.3), 0px 1px 3px 1px rgba(60, 64, 67, 0.15);\n",
              "      fill: #174EA6;\n",
              "    }\n",
              "\n",
              "    [theme=dark] .colab-df-convert {\n",
              "      background-color: #3B4455;\n",
              "      fill: #D2E3FC;\n",
              "    }\n",
              "\n",
              "    [theme=dark] .colab-df-convert:hover {\n",
              "      background-color: #434B5C;\n",
              "      box-shadow: 0px 1px 3px 1px rgba(0, 0, 0, 0.15);\n",
              "      filter: drop-shadow(0px 1px 2px rgba(0, 0, 0, 0.3));\n",
              "      fill: #FFFFFF;\n",
              "    }\n",
              "  </style>\n",
              "\n",
              "      <script>\n",
              "        const buttonEl =\n",
              "          document.querySelector('#df-d6814a4a-73a1-414e-bad4-386a01789158 button.colab-df-convert');\n",
              "        buttonEl.style.display =\n",
              "          google.colab.kernel.accessAllowed ? 'block' : 'none';\n",
              "\n",
              "        async function convertToInteractive(key) {\n",
              "          const element = document.querySelector('#df-d6814a4a-73a1-414e-bad4-386a01789158');\n",
              "          const dataTable =\n",
              "            await google.colab.kernel.invokeFunction('convertToInteractive',\n",
              "                                                     [key], {});\n",
              "          if (!dataTable) return;\n",
              "\n",
              "          const docLinkHtml = 'Like what you see? Visit the ' +\n",
              "            '<a target=\"_blank\" href=https://colab.research.google.com/notebooks/data_table.ipynb>data table notebook</a>'\n",
              "            + ' to learn more about interactive tables.';\n",
              "          element.innerHTML = '';\n",
              "          dataTable['output_type'] = 'display_data';\n",
              "          await google.colab.output.renderOutput(dataTable, element);\n",
              "          const docLink = document.createElement('div');\n",
              "          docLink.innerHTML = docLinkHtml;\n",
              "          element.appendChild(docLink);\n",
              "        }\n",
              "      </script>\n",
              "    </div>\n",
              "  </div>\n",
              "  "
            ]
          },
          "metadata": {},
          "execution_count": 5
        }
      ]
    },
    {
      "cell_type": "code",
      "source": [
        "items = (df[0].unique())\n",
        "items"
      ],
      "metadata": {
        "colab": {
          "base_uri": "https://localhost:8080/"
        },
        "id": "nCJkd8MbeTuG",
        "outputId": "344c1ff8-42cc-4adf-e23d-772f1dde00c0"
      },
      "execution_count": null,
      "outputs": [
        {
          "output_type": "execute_result",
          "data": {
            "text/plain": [
              "array(['WHITE HANGING HEART T-LIGHT HOLDER', 'HAND WARMER UNION JACK',\n",
              "       'ASSORTED COLOUR BIRD ORNAMENT', ...,\n",
              "       'PAPER CRAFT , LITTLE BIRDIE', 'COCKLE SHELL DISH',\n",
              "       'Adjust bad debt'], dtype=object)"
            ]
          },
          "metadata": {},
          "execution_count": 6
        }
      ]
    },
    {
      "cell_type": "markdown",
      "source": [
        "## Encode Values"
      ],
      "metadata": {
        "id": "boNkTIUkn9Iw"
      }
    },
    {
      "cell_type": "code",
      "source": [
        "encoded_vals = []\n",
        "def custom():\n",
        "    for index, row in df.iterrows():\n",
        "        labels = {}\n",
        "        uncommons = list(set(items) - set(row))\n",
        "        commons = list(set(items).intersection(row))\n",
        "        for uc in uncommons:\n",
        "            labels[uc] = 0\n",
        "        for com in commons:\n",
        "            labels[com] = 1\n",
        "        encoded_vals.append(labels)\n",
        "custom()\n",
        "ohe_df = pd.DataFrame(encoded_vals)\n",
        "print(ohe_df)"
      ],
      "metadata": {
        "colab": {
          "base_uri": "https://localhost:8080/"
        },
        "id": "H3BAo9hZecVc",
        "outputId": "381c5ca1-acf8-4b7f-e534-d5e8bb58eb33"
      },
      "execution_count": null,
      "outputs": [
        {
          "output_type": "stream",
          "name": "stdout",
          "text": [
            "       SMALL GLASS SUNDAE DISH CLEAR  3D CHRISTMAS STAMPS STICKERS  \\\n",
            "0                                  0                             0   \n",
            "1                                  0                             0   \n",
            "2                                  0                             0   \n",
            "3                                  0                             0   \n",
            "4                                  0                             0   \n",
            "...                              ...                           ...   \n",
            "21658                              0                             0   \n",
            "21659                              0                             0   \n",
            "21660                              0                             0   \n",
            "21661                              0                             0   \n",
            "21662                              0                             0   \n",
            "\n",
            "       CARD HOLDER GINGHAM HEART  TEA TIME DES TEA COSY  \\\n",
            "0                              0                      0   \n",
            "1                              0                      0   \n",
            "2                              0                      0   \n",
            "3                              0                      0   \n",
            "4                              0                      0   \n",
            "...                          ...                    ...   \n",
            "21658                          0                      0   \n",
            "21659                          0                      0   \n",
            "21660                          0                      0   \n",
            "21661                          0                      0   \n",
            "21662                          0                      0   \n",
            "\n",
            "       PACK OF 72 RETROSPOT CAKE CASES  SET/4 BIRD MIRROR MAGNETS  \\\n",
            "0                                    0                          0   \n",
            "1                                    0                          0   \n",
            "2                                    0                          0   \n",
            "3                                    0                          0   \n",
            "4                                    0                          0   \n",
            "...                                ...                        ...   \n",
            "21658                                0                          0   \n",
            "21659                                0                          0   \n",
            "21660                                0                          0   \n",
            "21661                                0                          0   \n",
            "21662                                0                          0   \n",
            "\n",
            "       EMBROIDERED RIBBON REEL DAISY  WHITE TRAVEL ALARM CLOCK  \\\n",
            "0                                  0                         0   \n",
            "1                                  0                         0   \n",
            "2                                  0                         0   \n",
            "3                                  0                         0   \n",
            "4                                  0                         0   \n",
            "...                              ...                       ...   \n",
            "21658                              0                         0   \n",
            "21659                              0                         0   \n",
            "21660                              0                         0   \n",
            "21661                              0                         0   \n",
            "21662                              0                         0   \n",
            "\n",
            "       CHRISTMAS CARD SINGING ANGEL  ASSORTED BOTTLE TOP  MAGNETS  ...  \\\n",
            "0                                 0                             0  ...   \n",
            "1                                 0                             0  ...   \n",
            "2                                 0                             0  ...   \n",
            "3                                 0                             0  ...   \n",
            "4                                 0                             0  ...   \n",
            "...                             ...                           ...  ...   \n",
            "21658                             0                             0  ...   \n",
            "21659                             0                             0  ...   \n",
            "21660                             0                             0  ...   \n",
            "21661                             0                             0  ...   \n",
            "21662                             0                             0  ...   \n",
            "\n",
            "       CINDERELLA CHANDELIER  KEY FOB , SHED  NaN  \\\n",
            "0                          0               0    1   \n",
            "1                          0               0    1   \n",
            "2                          0               0    1   \n",
            "3                          0               0    1   \n",
            "4                          0               0    1   \n",
            "...                      ...             ...  ...   \n",
            "21658                      0               0    1   \n",
            "21659                      0               0    1   \n",
            "21660                      0               0    1   \n",
            "21661                      0               0    1   \n",
            "21662                      0               0    1   \n",
            "\n",
            "       GLASS STAR FROSTED T-LIGHT HOLDER  RED WOOLLY HOTTIE WHITE HEART.  \\\n",
            "0                                      1                               1   \n",
            "1                                      0                               0   \n",
            "2                                      0                               0   \n",
            "3                                      0                               0   \n",
            "4                                      0                               0   \n",
            "...                                  ...                             ...   \n",
            "21658                                  0                               0   \n",
            "21659                                  0                               0   \n",
            "21660                                  0                               0   \n",
            "21661                                  0                               0   \n",
            "21662                                  0                               0   \n",
            "\n",
            "       SET 7 BABUSHKA NESTING BOXES  KNITTED UNION FLAG HOT WATER BOTTLE  \\\n",
            "0                                 1                                    1   \n",
            "1                                 0                                    0   \n",
            "2                                 0                                    0   \n",
            "3                                 0                                    0   \n",
            "4                                 0                                    0   \n",
            "...                             ...                                  ...   \n",
            "21658                             0                                    0   \n",
            "21659                             0                                    0   \n",
            "21660                             0                                    0   \n",
            "21661                             0                                    0   \n",
            "21662                             0                                    0   \n",
            "\n",
            "       CREAM CUPID HEARTS COAT HANGER  WHITE METAL LANTERN  \\\n",
            "0                                   1                    1   \n",
            "1                                   0                    0   \n",
            "2                                   0                    0   \n",
            "3                                   0                    0   \n",
            "4                                   0                    0   \n",
            "...                               ...                  ...   \n",
            "21658                               0                    0   \n",
            "21659                               0                    0   \n",
            "21660                               0                    0   \n",
            "21661                               0                    0   \n",
            "21662                               0                    0   \n",
            "\n",
            "       WHITE HANGING HEART T-LIGHT HOLDER  \n",
            "0                                       1  \n",
            "1                                       0  \n",
            "2                                       0  \n",
            "3                                       0  \n",
            "4                                       0  \n",
            "...                                   ...  \n",
            "21658                                   0  \n",
            "21659                                   0  \n",
            "21660                                   0  \n",
            "21661                                   0  \n",
            "21662                                   0  \n",
            "\n",
            "[21663 rows x 2907 columns]\n"
          ]
        }
      ]
    },
    {
      "cell_type": "markdown",
      "source": [
        "## Find Support for the items"
      ],
      "metadata": {
        "id": "DSV6XtTEn_pf"
      }
    },
    {
      "cell_type": "code",
      "source": [
        "from mlxtend.frequent_patterns import apriori\n",
        "from mlxtend.frequent_patterns import association_rules\n",
        "\n",
        "freq_items = apriori(ohe_df, min_support=0.006, use_colnames=True) #, verbose=1 #min_support=0.006, \n",
        "freq_items"
      ],
      "metadata": {
        "id": "cGa_7RDXefBN"
      },
      "execution_count": null,
      "outputs": []
    },
    {
      "cell_type": "code",
      "source": [
        "freq_items.to_excel('Export&Supportvalues.xlsx')"
      ],
      "metadata": {
        "id": "mIcKrtvkfCY0"
      },
      "execution_count": null,
      "outputs": []
    },
    {
      "cell_type": "markdown",
      "source": [
        "## Find the confidence of the rules"
      ],
      "metadata": {
        "id": "rPZwrOefoFsp"
      }
    },
    {
      "cell_type": "code",
      "source": [
        "rules = association_rules(freq_items, metric=\"confidence\", min_threshold=0.006)\n",
        "rules"
      ],
      "metadata": {
        "id": "SJU-6JcyfEZO"
      },
      "execution_count": null,
      "outputs": []
    },
    {
      "cell_type": "markdown",
      "source": [
        "## Display the confidence and support"
      ],
      "metadata": {
        "id": "SKgxpRyJoItJ"
      }
    },
    {
      "cell_type": "code",
      "source": [
        "import matplotlib.pyplot as plt\n",
        "plt.scatter(rules['support'], rules['confidence'], alpha=0.2,color='brown')\n",
        "plt.xlabel('support')\n",
        "plt.ylabel('confidence')\n",
        "plt.title('Support vs Confidence')\n",
        "plt.show()"
      ],
      "metadata": {
        "id": "ACh5djJJfFe-"
      },
      "execution_count": null,
      "outputs": []
    },
    {
      "cell_type": "code",
      "source": [
        "plt.scatter(rules['support'], rules['lift'], alpha=0.2,color='orange')\n",
        "plt.xlabel('support')\n",
        "plt.ylabel('lift')\n",
        "plt.title('Support vs Lift')\n",
        "plt.show()"
      ],
      "metadata": {
        "id": "GNHH8XoIfGzN"
      },
      "execution_count": null,
      "outputs": []
    },
    {
      "cell_type": "markdown",
      "source": [
        "## Install necessary things"
      ],
      "metadata": {
        "id": "22_MDYSGoL8A"
      }
    },
    {
      "cell_type": "code",
      "source": [
        "%%capture\n",
        "!sudo apt-get update --fix-missing\n",
        "\n",
        "!apt-get install openjdk-8-jdk-headless -qq > /dev/null\n",
        "\n",
        "!wget -q https://archive.apache.org/dist/spark/spark-3.0.0/spark-3.0.0-bin-hadoop3.2.tgz\n",
        "#!wget -q https://downloads.apache.org/spark/spark-3.0.0/spark-3.0.0-bin-hadoop3.2.tgz\n",
        "\n",
        "!mv spark-3.0.0-bin-hadoop3.2.tgz sparkkk\n",
        "!tar xf sparkkk\n",
        "!pip install -q findspark"
      ],
      "metadata": {
        "id": "FRA0hRpDfI10"
      },
      "execution_count": null,
      "outputs": []
    },
    {
      "cell_type": "markdown",
      "source": [
        "## Create spark session"
      ],
      "metadata": {
        "id": "IUOQlZeJoPBH"
      }
    },
    {
      "cell_type": "code",
      "source": [
        "import os\n",
        "os.environ[\"JAVA_HOME\"] = \"/usr/lib/jvm/java-8-openjdk-amd64\"\n",
        "os.environ[\"SPARK_HOME\"] = \"/content/spark-3.0.0-bin-hadoop3.2\"\n",
        "\n",
        "import findspark\n",
        "findspark.init()\n",
        "\n",
        "from pyspark.sql import SparkSession\n",
        "spark = SparkSession.builder.master(\"local[*]\").getOrCreate()\n",
        "\n",
        "from pyspark.sql import SparkSession\n",
        "spark = SparkSession \\\n",
        "    .builder \\\n",
        "    .appName('fpgrowth') \\\n",
        "    .getOrCreate()\n",
        "\n",
        "spark   "
      ],
      "metadata": {
        "id": "Ap8yJNPlfKRd"
      },
      "execution_count": null,
      "outputs": []
    },
    {
      "cell_type": "markdown",
      "source": [
        "## Create spark dataframe"
      ],
      "metadata": {
        "id": "v3xo6T3CoRQz"
      }
    },
    {
      "cell_type": "code",
      "source": [
        "from google.colab import files\n",
        "from pyspark.sql import functions as F\n",
        "from pyspark.ml.fpm import FPGrowth\n",
        "import pandas\n",
        "\n",
        "sparkdata = spark.createDataFrame(data)\n",
        "basketdata = sparkdata.dropDuplicates(['BillNo', 'Itemname']).sort('BillNo')\n",
        "basketdata = basketdata.groupBy(\"BillNo\").agg(F.collect_list(\"Itemname\")).sort('BillNo')"
      ],
      "metadata": {
        "id": "ZOE9YkCsgXB3"
      },
      "execution_count": null,
      "outputs": []
    },
    {
      "cell_type": "markdown",
      "source": [
        "## FP-Growth Algorithm"
      ],
      "metadata": {
        "id": "YLFU9SWOoVY4"
      }
    },
    {
      "cell_type": "code",
      "source": [
        "#Frequent Pattern Growth – FP Growth is a method of mining frequent itemsets\n",
        "fpGrowth = FPGrowth(itemsCol=\"collect_list(Itemname)\", minSupport=0.006, minConfidence=0.006) \n",
        "model = fpGrowth.fit(basketdata)\n",
        "\n",
        "# Display frequent itemsets.\n",
        "items = model.freqItemsets\n",
        "# Display generated association rules.\n",
        "rules = model.associationRules\n",
        "# transform examines the input items against all the association rules and summarize the\n",
        "# consequents as prediction\n",
        "transformed = model.transform(basketdata)"
      ],
      "metadata": {
        "id": "Vc90dlgmgpV_"
      },
      "execution_count": null,
      "outputs": []
    },
    {
      "cell_type": "markdown",
      "source": [
        "## Ouputs"
      ],
      "metadata": {
        "id": "T8isD_w2oX47"
      }
    },
    {
      "cell_type": "markdown",
      "source": [
        "### Output result"
      ],
      "metadata": {
        "id": "f1U_kk4boZMw"
      }
    },
    {
      "cell_type": "code",
      "source": [
        "# Convert the Spark DataFrame back to a Pandas DataFrame using Arrow\n",
        "result_pdf = items.select(\"*\").toPandas()\n",
        "result_pdf.head()"
      ],
      "metadata": {
        "id": "W1dbqbiBhFrE"
      },
      "execution_count": null,
      "outputs": []
    },
    {
      "cell_type": "code",
      "source": [
        "result_pdf.to_excel('result_pdfItemsFreq.xlsx')"
      ],
      "metadata": {
        "id": "5db472R6hS32"
      },
      "execution_count": null,
      "outputs": []
    },
    {
      "cell_type": "markdown",
      "source": [
        "### Output Rules"
      ],
      "metadata": {
        "id": "WKMhDIxzocr6"
      }
    },
    {
      "cell_type": "code",
      "source": [
        "rules_pdf = rules.select(\"*\").toPandas()\n",
        "rules_pdf.head()"
      ],
      "metadata": {
        "id": "mitZREZ0hUMI"
      },
      "execution_count": null,
      "outputs": []
    },
    {
      "cell_type": "code",
      "source": [
        "rules_pdf.to_excel('rules_pdfAnteConseConfLift.xlsx')"
      ],
      "metadata": {
        "id": "QN0p5pHvhVQn"
      },
      "execution_count": null,
      "outputs": []
    },
    {
      "cell_type": "markdown",
      "source": [
        "### Ouput Predictions"
      ],
      "metadata": {
        "id": "dVXzP96roerg"
      }
    },
    {
      "cell_type": "code",
      "source": [
        "transformed_pdf = transformed.select(\"*\").toPandas()\n",
        "transformed_pdf.head()"
      ],
      "metadata": {
        "id": "2cKAO-4nhVVt"
      },
      "execution_count": null,
      "outputs": []
    },
    {
      "cell_type": "code",
      "source": [
        "transformed_pdf.to_excel('transformed_pdfSalesTransactionIDCollectListPred.xlsx')"
      ],
      "metadata": {
        "id": "YqBbtHpdhYPW"
      },
      "execution_count": null,
      "outputs": []
    }
  ]
}