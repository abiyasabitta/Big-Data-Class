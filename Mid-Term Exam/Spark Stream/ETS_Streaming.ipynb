{
  "nbformat": 4,
  "nbformat_minor": 0,
  "metadata": {
    "colab": {
      "provenance": []
    },
    "kernelspec": {
      "name": "python3",
      "display_name": "Python 3"
    },
    "language_info": {
      "name": "python"
    }
  },
  "cells": [
    {
      "cell_type": "markdown",
      "source": [
        "# ABIYA SABITTA RAGADANI || 05111940000166\n",
        "MID-TERM EXAM"
      ],
      "metadata": {
        "id": "1kGYFRHPQFJ4"
      }
    },
    {
      "cell_type": "markdown",
      "source": [
        "# Spark Streaming"
      ],
      "metadata": {
        "id": "eDO5wqGGWgIk"
      }
    },
    {
      "cell_type": "code",
      "execution_count": 1,
      "metadata": {
        "colab": {
          "base_uri": "https://localhost:8080/"
        },
        "id": "nq8iCvFwQEFm",
        "outputId": "64b01eac-e842-4c1b-b75e-09c7a451c487"
      },
      "outputs": [
        {
          "output_type": "stream",
          "name": "stdout",
          "text": [
            "Looking in indexes: https://pypi.org/simple, https://us-python.pkg.dev/colab-wheels/public/simple/\n",
            "Collecting pyspark\n",
            "  Downloading pyspark-3.4.0.tar.gz (310.8 MB)\n",
            "\u001b[2K     \u001b[90m━━━━━━━━━━━━━━━━━━━━━━━━━━━━━━━━━━━━━━━\u001b[0m \u001b[32m310.8/310.8 MB\u001b[0m \u001b[31m4.2 MB/s\u001b[0m eta \u001b[36m0:00:00\u001b[0m\n",
            "\u001b[?25h  Preparing metadata (setup.py) ... \u001b[?25l\u001b[?25hdone\n",
            "Requirement already satisfied: py4j==0.10.9.7 in /usr/local/lib/python3.9/dist-packages (from pyspark) (0.10.9.7)\n",
            "Building wheels for collected packages: pyspark\n",
            "  Building wheel for pyspark (setup.py) ... \u001b[?25l\u001b[?25hdone\n",
            "  Created wheel for pyspark: filename=pyspark-3.4.0-py2.py3-none-any.whl size=311317145 sha256=009c67779fe6941bb06a1d28e3ebfe515f13283a5561ec5e8a7e4a48204be67a\n",
            "  Stored in directory: /root/.cache/pip/wheels/9f/34/a4/159aa12d0a510d5ff7c8f0220abbea42e5d81ecf588c4fd884\n",
            "Successfully built pyspark\n",
            "Installing collected packages: pyspark\n",
            "Successfully installed pyspark-3.4.0\n"
          ]
        }
      ],
      "source": [
        "!pip install pyspark"
      ]
    },
    {
      "cell_type": "markdown",
      "source": [
        "## Create Spark Session"
      ],
      "metadata": {
        "id": "2ieCua4EWkQy"
      }
    },
    {
      "cell_type": "code",
      "source": [
        "# Import Apache Spark SQL\n",
        "from pyspark.sql import SparkSession\n",
        "\n",
        "# Create Spark Session/Context\n",
        "# We are using local machine with all the CPU cores [*]\n",
        "spark = SparkSession.builder \\\n",
        "    .master(\"local[*]\") \\\n",
        "    .appName(\"Hello Pyspark\") \\\n",
        "    .config(\"spark.some.config.option\", \"some-value\") \\\n",
        "    .getOrCreate()"
      ],
      "metadata": {
        "id": "gfo1FyppQRdS"
      },
      "execution_count": 2,
      "outputs": []
    },
    {
      "cell_type": "markdown",
      "source": [
        "## Create read input\n",
        "create a read stream to read input from folder \"input-05111940000166\""
      ],
      "metadata": {
        "id": "g0nvmszhWnyc"
      }
    },
    {
      "cell_type": "code",
      "source": [
        "# To allow automatic schemaInference while reading\n",
        "spark.conf.set(\"spark.sql.streaming.schemaInference\", True)\n",
        "\n",
        "# Create the streaming_df to read from input directory\n",
        "streaming_df = spark.readStream\\\n",
        "    .format(\"json\") \\\n",
        "    .option(\"cleanSource\", \"archive\") \\\n",
        "    .option(\"sourceArchiveDir\", \"data/archive/device_data/\") \\\n",
        "    .option(\"maxFilesPerTrigger\", 1) \\\n",
        "    .load(\"input-05111940000166/\")"
      ],
      "metadata": {
        "id": "EAR7oSWmRqd6"
      },
      "execution_count": 3,
      "outputs": []
    },
    {
      "cell_type": "markdown",
      "source": [
        "## See the dataframe schema"
      ],
      "metadata": {
        "id": "ff1GHjGpWrk7"
      }
    },
    {
      "cell_type": "code",
      "source": [
        "# See schema data\n",
        "streaming_df.printSchema()"
      ],
      "metadata": {
        "colab": {
          "base_uri": "https://localhost:8080/"
        },
        "id": "gJLT0WIFSwjT",
        "outputId": "17a1bc2b-3863-4d36-fd45-3dd7648ed56a"
      },
      "execution_count": 4,
      "outputs": [
        {
          "output_type": "stream",
          "name": "stdout",
          "text": [
            "root\n",
            " |-- authors: string (nullable = true)\n",
            " |-- category: string (nullable = true)\n",
            " |-- date: string (nullable = true)\n",
            " |-- headline: string (nullable = true)\n",
            " |-- link: string (nullable = true)\n",
            " |-- short_description: string (nullable = true)\n",
            "\n"
          ]
        }
      ]
    },
    {
      "cell_type": "markdown",
      "source": [
        "## Begin Write Stream\n",
        "create a write stream where it writes the output in folder \"output-05111940000166\""
      ],
      "metadata": {
        "id": "JXkz-lPFWwiK"
      }
    },
    {
      "cell_type": "code",
      "source": [
        "# Write the output to console sink to check the output\n",
        "writing_df = streaming_df.writeStream \\\n",
        "    .format(\"json\") \\\n",
        "    .option(\"path\", \"output-05111940000166/\") \\\n",
        "    .option(\"checkpointLocation\",\"checkpoint_dir\") \\\n",
        "    .outputMode(\"append\") \\\n",
        "    .start()\n",
        "    \n",
        "# Start the streaming application to run until the following happens\n",
        "# 1. Exception in the running program\n",
        "# 2. Manual Interruption\n",
        "writing_df.awaitTermination()"
      ],
      "metadata": {
        "colab": {
          "base_uri": "https://localhost:8080/",
          "height": 503
        },
        "id": "WG_rFfpVVibi",
        "outputId": "ac5a322c-27bf-4e29-cfb7-d767d7fcdd38"
      },
      "execution_count": 6,
      "outputs": [
        {
          "output_type": "stream",
          "name": "stderr",
          "text": [
            "ERROR:root:KeyboardInterrupt while sending command.\n",
            "Traceback (most recent call last):\n",
            "  File \"/usr/local/lib/python3.9/dist-packages/py4j/java_gateway.py\", line 1038, in send_command\n",
            "    response = connection.send_command(command)\n",
            "  File \"/usr/local/lib/python3.9/dist-packages/py4j/clientserver.py\", line 511, in send_command\n",
            "    answer = smart_decode(self.stream.readline()[:-1])\n",
            "  File \"/usr/lib/python3.9/socket.py\", line 704, in readinto\n",
            "    return self._sock.recv_into(b)\n",
            "KeyboardInterrupt\n"
          ]
        },
        {
          "output_type": "error",
          "ename": "KeyboardInterrupt",
          "evalue": "ignored",
          "traceback": [
            "\u001b[0;31m---------------------------------------------------------------------------\u001b[0m",
            "\u001b[0;31mKeyboardInterrupt\u001b[0m                         Traceback (most recent call last)",
            "\u001b[0;32m<ipython-input-6-e6b94ef1f2b9>\u001b[0m in \u001b[0;36m<cell line: 12>\u001b[0;34m()\u001b[0m\n\u001b[1;32m     10\u001b[0m \u001b[0;31m# 1. Exception in the running program\u001b[0m\u001b[0;34m\u001b[0m\u001b[0;34m\u001b[0m\u001b[0m\n\u001b[1;32m     11\u001b[0m \u001b[0;31m# 2. Manual Interruption\u001b[0m\u001b[0;34m\u001b[0m\u001b[0;34m\u001b[0m\u001b[0m\n\u001b[0;32m---> 12\u001b[0;31m \u001b[0mwriting_df\u001b[0m\u001b[0;34m.\u001b[0m\u001b[0mawaitTermination\u001b[0m\u001b[0;34m(\u001b[0m\u001b[0;34m)\u001b[0m\u001b[0;34m\u001b[0m\u001b[0;34m\u001b[0m\u001b[0m\n\u001b[0m",
            "\u001b[0;32m/usr/local/lib/python3.9/dist-packages/pyspark/sql/streaming/query.py\u001b[0m in \u001b[0;36mawaitTermination\u001b[0;34m(self, timeout)\u001b[0m\n\u001b[1;32m    199\u001b[0m             \u001b[0;32mreturn\u001b[0m \u001b[0mself\u001b[0m\u001b[0;34m.\u001b[0m\u001b[0m_jsq\u001b[0m\u001b[0;34m.\u001b[0m\u001b[0mawaitTermination\u001b[0m\u001b[0;34m(\u001b[0m\u001b[0mint\u001b[0m\u001b[0;34m(\u001b[0m\u001b[0mtimeout\u001b[0m \u001b[0;34m*\u001b[0m \u001b[0;36m1000\u001b[0m\u001b[0;34m)\u001b[0m\u001b[0;34m)\u001b[0m\u001b[0;34m\u001b[0m\u001b[0;34m\u001b[0m\u001b[0m\n\u001b[1;32m    200\u001b[0m         \u001b[0;32melse\u001b[0m\u001b[0;34m:\u001b[0m\u001b[0;34m\u001b[0m\u001b[0;34m\u001b[0m\u001b[0m\n\u001b[0;32m--> 201\u001b[0;31m             \u001b[0;32mreturn\u001b[0m \u001b[0mself\u001b[0m\u001b[0;34m.\u001b[0m\u001b[0m_jsq\u001b[0m\u001b[0;34m.\u001b[0m\u001b[0mawaitTermination\u001b[0m\u001b[0;34m(\u001b[0m\u001b[0;34m)\u001b[0m\u001b[0;34m\u001b[0m\u001b[0;34m\u001b[0m\u001b[0m\n\u001b[0m\u001b[1;32m    202\u001b[0m \u001b[0;34m\u001b[0m\u001b[0m\n\u001b[1;32m    203\u001b[0m     \u001b[0;34m@\u001b[0m\u001b[0mproperty\u001b[0m\u001b[0;34m\u001b[0m\u001b[0;34m\u001b[0m\u001b[0m\n",
            "\u001b[0;32m/usr/local/lib/python3.9/dist-packages/py4j/java_gateway.py\u001b[0m in \u001b[0;36m__call__\u001b[0;34m(self, *args)\u001b[0m\n\u001b[1;32m   1319\u001b[0m             \u001b[0mproto\u001b[0m\u001b[0;34m.\u001b[0m\u001b[0mEND_COMMAND_PART\u001b[0m\u001b[0;34m\u001b[0m\u001b[0;34m\u001b[0m\u001b[0m\n\u001b[1;32m   1320\u001b[0m \u001b[0;34m\u001b[0m\u001b[0m\n\u001b[0;32m-> 1321\u001b[0;31m         \u001b[0manswer\u001b[0m \u001b[0;34m=\u001b[0m \u001b[0mself\u001b[0m\u001b[0;34m.\u001b[0m\u001b[0mgateway_client\u001b[0m\u001b[0;34m.\u001b[0m\u001b[0msend_command\u001b[0m\u001b[0;34m(\u001b[0m\u001b[0mcommand\u001b[0m\u001b[0;34m)\u001b[0m\u001b[0;34m\u001b[0m\u001b[0;34m\u001b[0m\u001b[0m\n\u001b[0m\u001b[1;32m   1322\u001b[0m         return_value = get_return_value(\n\u001b[1;32m   1323\u001b[0m             answer, self.gateway_client, self.target_id, self.name)\n",
            "\u001b[0;32m/usr/local/lib/python3.9/dist-packages/py4j/java_gateway.py\u001b[0m in \u001b[0;36msend_command\u001b[0;34m(self, command, retry, binary)\u001b[0m\n\u001b[1;32m   1036\u001b[0m         \u001b[0mconnection\u001b[0m \u001b[0;34m=\u001b[0m \u001b[0mself\u001b[0m\u001b[0;34m.\u001b[0m\u001b[0m_get_connection\u001b[0m\u001b[0;34m(\u001b[0m\u001b[0;34m)\u001b[0m\u001b[0;34m\u001b[0m\u001b[0;34m\u001b[0m\u001b[0m\n\u001b[1;32m   1037\u001b[0m         \u001b[0;32mtry\u001b[0m\u001b[0;34m:\u001b[0m\u001b[0;34m\u001b[0m\u001b[0;34m\u001b[0m\u001b[0m\n\u001b[0;32m-> 1038\u001b[0;31m             \u001b[0mresponse\u001b[0m \u001b[0;34m=\u001b[0m \u001b[0mconnection\u001b[0m\u001b[0;34m.\u001b[0m\u001b[0msend_command\u001b[0m\u001b[0;34m(\u001b[0m\u001b[0mcommand\u001b[0m\u001b[0;34m)\u001b[0m\u001b[0;34m\u001b[0m\u001b[0;34m\u001b[0m\u001b[0m\n\u001b[0m\u001b[1;32m   1039\u001b[0m             \u001b[0;32mif\u001b[0m \u001b[0mbinary\u001b[0m\u001b[0;34m:\u001b[0m\u001b[0;34m\u001b[0m\u001b[0;34m\u001b[0m\u001b[0m\n\u001b[1;32m   1040\u001b[0m                 \u001b[0;32mreturn\u001b[0m \u001b[0mresponse\u001b[0m\u001b[0;34m,\u001b[0m \u001b[0mself\u001b[0m\u001b[0;34m.\u001b[0m\u001b[0m_create_connection_guard\u001b[0m\u001b[0;34m(\u001b[0m\u001b[0mconnection\u001b[0m\u001b[0;34m)\u001b[0m\u001b[0;34m\u001b[0m\u001b[0;34m\u001b[0m\u001b[0m\n",
            "\u001b[0;32m/usr/local/lib/python3.9/dist-packages/py4j/clientserver.py\u001b[0m in \u001b[0;36msend_command\u001b[0;34m(self, command)\u001b[0m\n\u001b[1;32m    509\u001b[0m         \u001b[0;32mtry\u001b[0m\u001b[0;34m:\u001b[0m\u001b[0;34m\u001b[0m\u001b[0;34m\u001b[0m\u001b[0m\n\u001b[1;32m    510\u001b[0m             \u001b[0;32mwhile\u001b[0m \u001b[0;32mTrue\u001b[0m\u001b[0;34m:\u001b[0m\u001b[0;34m\u001b[0m\u001b[0;34m\u001b[0m\u001b[0m\n\u001b[0;32m--> 511\u001b[0;31m                 \u001b[0manswer\u001b[0m \u001b[0;34m=\u001b[0m \u001b[0msmart_decode\u001b[0m\u001b[0;34m(\u001b[0m\u001b[0mself\u001b[0m\u001b[0;34m.\u001b[0m\u001b[0mstream\u001b[0m\u001b[0;34m.\u001b[0m\u001b[0mreadline\u001b[0m\u001b[0;34m(\u001b[0m\u001b[0;34m)\u001b[0m\u001b[0;34m[\u001b[0m\u001b[0;34m:\u001b[0m\u001b[0;34m-\u001b[0m\u001b[0;36m1\u001b[0m\u001b[0;34m]\u001b[0m\u001b[0;34m)\u001b[0m\u001b[0;34m\u001b[0m\u001b[0;34m\u001b[0m\u001b[0m\n\u001b[0m\u001b[1;32m    512\u001b[0m                 \u001b[0mlogger\u001b[0m\u001b[0;34m.\u001b[0m\u001b[0mdebug\u001b[0m\u001b[0;34m(\u001b[0m\u001b[0;34m\"Answer received: {0}\"\u001b[0m\u001b[0;34m.\u001b[0m\u001b[0mformat\u001b[0m\u001b[0;34m(\u001b[0m\u001b[0manswer\u001b[0m\u001b[0;34m)\u001b[0m\u001b[0;34m)\u001b[0m\u001b[0;34m\u001b[0m\u001b[0;34m\u001b[0m\u001b[0m\n\u001b[1;32m    513\u001b[0m                 \u001b[0;31m# Happens when a the other end is dead. There might be an empty\u001b[0m\u001b[0;34m\u001b[0m\u001b[0;34m\u001b[0m\u001b[0m\n",
            "\u001b[0;32m/usr/lib/python3.9/socket.py\u001b[0m in \u001b[0;36mreadinto\u001b[0;34m(self, b)\u001b[0m\n\u001b[1;32m    702\u001b[0m         \u001b[0;32mwhile\u001b[0m \u001b[0;32mTrue\u001b[0m\u001b[0;34m:\u001b[0m\u001b[0;34m\u001b[0m\u001b[0;34m\u001b[0m\u001b[0m\n\u001b[1;32m    703\u001b[0m             \u001b[0;32mtry\u001b[0m\u001b[0;34m:\u001b[0m\u001b[0;34m\u001b[0m\u001b[0;34m\u001b[0m\u001b[0m\n\u001b[0;32m--> 704\u001b[0;31m                 \u001b[0;32mreturn\u001b[0m \u001b[0mself\u001b[0m\u001b[0;34m.\u001b[0m\u001b[0m_sock\u001b[0m\u001b[0;34m.\u001b[0m\u001b[0mrecv_into\u001b[0m\u001b[0;34m(\u001b[0m\u001b[0mb\u001b[0m\u001b[0;34m)\u001b[0m\u001b[0;34m\u001b[0m\u001b[0;34m\u001b[0m\u001b[0m\n\u001b[0m\u001b[1;32m    705\u001b[0m             \u001b[0;32mexcept\u001b[0m \u001b[0mtimeout\u001b[0m\u001b[0;34m:\u001b[0m\u001b[0;34m\u001b[0m\u001b[0;34m\u001b[0m\u001b[0m\n\u001b[1;32m    706\u001b[0m                 \u001b[0mself\u001b[0m\u001b[0;34m.\u001b[0m\u001b[0m_timeout_occurred\u001b[0m \u001b[0;34m=\u001b[0m \u001b[0;32mTrue\u001b[0m\u001b[0;34m\u001b[0m\u001b[0;34m\u001b[0m\u001b[0m\n",
            "\u001b[0;31mKeyboardInterrupt\u001b[0m: "
          ]
        }
      ]
    },
    {
      "cell_type": "markdown",
      "source": [
        "## Check output"
      ],
      "metadata": {
        "id": "AB8FbafXWzol"
      }
    },
    {
      "cell_type": "code",
      "source": [
        "# Check the data at the output location\n",
        "\n",
        "out_df = spark.read.json(\"output-05111940000166/\")\n",
        "out_df.show(truncate=False)"
      ],
      "metadata": {
        "colab": {
          "base_uri": "https://localhost:8080/"
        },
        "id": "z4xWY9oRV8Bi",
        "outputId": "96d95747-8b51-44bb-bf35-c341edc76cd6"
      },
      "execution_count": 7,
      "outputs": [
        {
          "output_type": "stream",
          "name": "stdout",
          "text": [
            "+--------------------------------------+-------------+----------+--------------------------------------------------------------------------------------+---------------------------------------------------------------------------------------------------------+-------------------------------------------------------------------------------------------------------------------------------------------------------------------+\n",
            "|authors                               |category     |date      |headline                                                                              |link                                                                                                     |short_description                                                                                                                                                  |\n",
            "+--------------------------------------+-------------+----------+--------------------------------------------------------------------------------------+---------------------------------------------------------------------------------------------------------+-------------------------------------------------------------------------------------------------------------------------------------------------------------------+\n",
            "|                                      |U.S. NEWS    |2022-09-04|Emergency Declared As Flash Flooding Hits Northwest Georgia                           |https://www.huffpost.com/entry/georgia-flash-flooding_n_63151514e4b0eac9f4cdc7d3                         |Thunderstorms and heavy rain pounded parts of northwest Georgia on Sunday, sparking flash flooding and dangerously high waters in some areas.                      |\n",
            "|Marco Margaritoff                     |ENTERTAINMENT|2022-09-03|'The Osbournes' Will Return In British Revival On BBC: 'Same Laughter, Love And Tears'|https://www.huffpost.com/entry/the-osbournes-revival-series-announcement_n_6313714ee4b046aa022acc2e      |Millennials might remember the family's MTV reality series from the early 2000s. The BBC series will be filmed at the 350-acre Osbourne estate in England.         |\n",
            "|                                      |U.S. NEWS    |2022-09-03|Plane That Circled Mississippi Threatening To Crash Has Landed                        |https://www.huffpost.com/entry/tupelo-mississippi-airplane-walmart_n_6313572be4b0536be045b912            |A pilot has been arrested after circling a small airplane over Tupelo, Mississippi, while threatening to crash into a Walmart store.                               |\n",
            "|Marcia Dunn, AP                       |SCIENCE      |2022-09-03|Fuel Leak Ruins NASA's 2nd Shot At Launching New Moon Rocket                          |https://www.huffpost.com/entry/fuel-leak-ruins-nasa-launch-moon-artemis_n_63137247e4b0eac9f4cd4aa2       |Part of the space agency's Artemis program, the rocket is the most powerful to date.                                                                               |\n",
            "|Terry Wallace, AP                     |U.S. NEWS    |2022-09-03|9 Migrants Are Found Dead In Rio Grande: Border Patrol                                |https://www.huffpost.com/entry/8-migrants-dead-rio-grande-border-patrol_n_6312d71ce4b0536be0458388       |Tragic toll followed hazardous crossing by desperate dozens, said officials.                                                                                       |\n",
            "|Ben Blanchet                          |U.S. NEWS    |2022-09-02|Owner Of New England Frozen Yogurt Shops Accused Of Hiding Camera In Store Bathroom   |https://www.huffpost.com/entry/new-england-frozen-yogurt-owner-charged_n_6311972ae4b020c4ffab96b2        |Nashua police charged Chanphanou (Sab) Pou with three misdemeanor counts of violation of privacy. He could face up to one year in jail for each charge.            |\n",
            "|Marita Vlachou                        |POLITICS     |2022-09-02|Former White House Counsel Pat Cipollone To Testify Before Grand Jury: Reports        |https://www.huffpost.com/entry/pat-cipollone-jan-6-grand-jury_n_6311c619e4b07d96a24d2ae8                 |Cipollone's former deputy Patrick Philbin is also reportedly scheduled to provide testimony to the grand jury on Friday.                                           |\n",
            "|                                      |U.S. NEWS    |2022-09-02|Tropical Storm Danielle Strengthens Into Hurricane, No Current Threat To Land         |https://www.huffpost.com/entry/hurricane-danielle-tropical-storm_n_631236a4e4b020c4ffacca40              |The storm — the first hurricane of an unusually quiet storm season — is centered about 885 miles west of the Azores.                                               |\n",
            "|Jim Heintz and Vladimir Isachenkov, AP|WORLD NEWS   |2022-09-02|Putin Plans To Snub Gorbachev's Funeral                                               |https://www.huffpost.com/entry/putin-snubs-gorbachev-funeral_n_6312499ce4b09e34c39504ef                  |The low-key funeral reflects the Kremlin’s uneasiness about the legacy of Gorbachev, who is despised by many at home for the collapse of the Soviet Union.         |\n",
            "|Marcia Dunn, AP                       |U.S. NEWS    |2022-09-02|NASA Aims For Saturday Launch Of New Moon Rocket After Fixing Fuel Leaks              |https://www.huffpost.com/entry/nasa-artemis-rocket-launch_n_631265e3e4b0fc6bd23b7e7e                     |The inaugural flight of the 322-foot Artemis I rocket — the most powerful ever built by NASA — was delayed late in the countdown Monday.                           |\n",
            "|Christopher Rugaber, AP               |U.S. NEWS    |2022-09-02|U.S. Hiring Slowed In August As Employers Add 315,000 Jobs                            |https://www.huffpost.com/entry/us-economy-jobs-report-august_n_6311fc30e4b0aefceecb070e                  |The unemployment rate rose to 3.7%, from a half-century low of 3.5% in July, as more Americans came off the sidelines to look for jobs.                            |\n",
            "|Nina Golgowski                        |U.S. NEWS    |2022-09-01|Pregnant Woman Who Claimed Unborn Baby Was HOV Lane Passenger Receives Another Ticket |https://www.huffpost.com/entry/pregnant-brandy-bottone-texas-hov-lane-citation_n_6310b3f7e4b088f7423b32d0|Brandy Bottone had referred to Roe v. Wade and Texas' penal code, which identifies an unborn child as an individual, when she was first stopped for using the lane.|\n",
            "|                                      |U.S. NEWS    |2022-09-04|Emergency Declared As Flash Flooding Hits Northwest Georgia                           |https://www.huffpost.com/entry/georgia-flash-flooding_n_63151514e4b0eac9f4cdc7d3                         |Thunderstorms and heavy rain pounded parts of northwest Georgia on Sunday, sparking flash flooding and dangerously high waters in some areas.                      |\n",
            "|Marco Margaritoff                     |ENTERTAINMENT|2022-09-03|'The Osbournes' Will Return In British Revival On BBC: 'Same Laughter, Love And Tears'|https://www.huffpost.com/entry/the-osbournes-revival-series-announcement_n_6313714ee4b046aa022acc2e      |Millennials might remember the family's MTV reality series from the early 2000s. The BBC series will be filmed at the 350-acre Osbourne estate in England.         |\n",
            "|                                      |U.S. NEWS    |2022-09-03|Plane That Circled Mississippi Threatening To Crash Has Landed                        |https://www.huffpost.com/entry/tupelo-mississippi-airplane-walmart_n_6313572be4b0536be045b912            |A pilot has been arrested after circling a small airplane over Tupelo, Mississippi, while threatening to crash into a Walmart store.                               |\n",
            "|Marcia Dunn, AP                       |SCIENCE      |2022-09-03|Fuel Leak Ruins NASA's 2nd Shot At Launching New Moon Rocket                          |https://www.huffpost.com/entry/fuel-leak-ruins-nasa-launch-moon-artemis_n_63137247e4b0eac9f4cd4aa2       |Part of the space agency's Artemis program, the rocket is the most powerful to date.                                                                               |\n",
            "|Terry Wallace, AP                     |U.S. NEWS    |2022-09-03|9 Migrants Are Found Dead In Rio Grande: Border Patrol                                |https://www.huffpost.com/entry/8-migrants-dead-rio-grande-border-patrol_n_6312d71ce4b0536be0458388       |Tragic toll followed hazardous crossing by desperate dozens, said officials.                                                                                       |\n",
            "|Ben Blanchet                          |U.S. NEWS    |2022-09-02|Owner Of New England Frozen Yogurt Shops Accused Of Hiding Camera In Store Bathroom   |https://www.huffpost.com/entry/new-england-frozen-yogurt-owner-charged_n_6311972ae4b020c4ffab96b2        |Nashua police charged Chanphanou (Sab) Pou with three misdemeanor counts of violation of privacy. He could face up to one year in jail for each charge.            |\n",
            "|Marita Vlachou                        |POLITICS     |2022-09-02|Former White House Counsel Pat Cipollone To Testify Before Grand Jury: Reports        |https://www.huffpost.com/entry/pat-cipollone-jan-6-grand-jury_n_6311c619e4b07d96a24d2ae8                 |Cipollone's former deputy Patrick Philbin is also reportedly scheduled to provide testimony to the grand jury on Friday.                                           |\n",
            "|                                      |U.S. NEWS    |2022-09-02|Tropical Storm Danielle Strengthens Into Hurricane, No Current Threat To Land         |https://www.huffpost.com/entry/hurricane-danielle-tropical-storm_n_631236a4e4b020c4ffacca40              |The storm — the first hurricane of an unusually quiet storm season — is centered about 885 miles west of the Azores.                                               |\n",
            "+--------------------------------------+-------------+----------+--------------------------------------------------------------------------------------+---------------------------------------------------------------------------------------------------------+-------------------------------------------------------------------------------------------------------------------------------------------------------------------+\n",
            "only showing top 20 rows\n",
            "\n"
          ]
        }
      ]
    }
  ]
}